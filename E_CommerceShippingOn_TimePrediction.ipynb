{
  "cells": [
    {
      "cell_type": "markdown",
      "metadata": {
        "id": "a9_5WOGw_vpf"
      },
      "source": [
        "#### **E-Commerce Shipping**\n",
        "**Dataset Description:**\n",
        "\n",
        "An international e-commerce company based wants to discover key insights from their cust omer database. They want to use some of the most advanced machine learning techniques to study their customers. The company sells electronic products.\n",
        "\n",
        "**Content:**\n",
        "\n",
        "The dataset used for model building contained 10999 observations of 12 variables. Given these\n",
        "variables, we would like to predict if the shipment is going to reach to destination on time or not. There\n",
        "is a specific column in the data set that you can use as your output (Reached on time)"
      ]
    },
    {
      "cell_type": "markdown",
      "metadata": {
        "id": "yzAlC1VZPmpY"
      },
      "source": [
        "#### Column Defination\n",
        "* ID: Unique identification of customer .\n",
        "* Warehouse block: The Company Warehouse is divided into differnt block. For example:  A,B,C,D,E.\n",
        "* Mode of shipment: The company has different mode of shipment like Ship, Flight and Road.\n",
        "* Customer care calls: The number of calls made from enquiry for enquiry of the shipment.\n",
        "* Customer rating: Customer review . 1 is the lowest (Worst), 5 is the highest (Best).\n",
        "* Cost of the product: Total Cost of the Product in USD.\n",
        "* Prior purchases: The Number of Prior Purchase.\n",
        "* Product importance: The compnay has prioritize the product in parameter like low, medium, high.\n",
        "* Gender: Male and Female.\n",
        "* Discount offered: Discount offered on that product.\n",
        "* Weight in gms: weight in grams.\n",
        "* Reached on time: target variable, where 1 Indicates that the product has NOT delivered on time and 0 indicates it has delivered on time."
      ]
    },
    {
      "cell_type": "markdown",
      "metadata": {
        "id": "UiaXS5eoAqJS"
      },
      "source": [
        "**Loading data**"
      ]
    },
    {
      "cell_type": "code",
      "execution_count": 3,
      "metadata": {
        "id": "2CXhqkj4_9lA"
      },
      "outputs": [],
      "source": [
        "#Import the require\n",
        "import pandas as pd\n",
        "import numpy as np\n",
        "import matplotlib.pyplot as plt\n",
        "import seaborn as sns\n",
        "%matplotlib inline"
      ]
    },
    {
      "cell_type": "code",
      "execution_count": 4,
      "metadata": {
        "colab": {
          "base_uri": "https://localhost:8080/",
          "height": 270
        },
        "id": "cKnrs71CAN54",
        "outputId": "632c1d1e-fca0-416d-a755-8a2f76768cc2"
      },
      "outputs": [
        {
          "output_type": "execute_result",
          "data": {
            "text/plain": [
              "   ID Warehouse_block Mode_of_Shipment  Customer_care_calls  Customer_rating  \\\n",
              "0   1               D           Flight                    4                2   \n",
              "1   2               F           Flight                    4                5   \n",
              "2   3               A           Flight                    2                2   \n",
              "3   4               B           Flight                    3                3   \n",
              "4   5               C           Flight                    2                2   \n",
              "\n",
              "   Cost_of_the_Product  Prior_purchases Product_importance Gender  \\\n",
              "0                  177                3                low      F   \n",
              "1                  216                2                low      M   \n",
              "2                  183                4                low      M   \n",
              "3                  176                4             medium      M   \n",
              "4                  184                3             medium      F   \n",
              "\n",
              "   Discount_offered  Weight_in_gms  Reached.on.Time_Y.N  \n",
              "0                44           1233                    1  \n",
              "1                59           3088                    1  \n",
              "2                48           3374                    1  \n",
              "3                10           1177                    1  \n",
              "4                46           2484                    1  "
            ],
            "text/html": [
              "\n",
              "  <div id=\"df-666e3409-f3d2-41ed-b5ce-880b86c0bd93\">\n",
              "    <div class=\"colab-df-container\">\n",
              "      <div>\n",
              "<style scoped>\n",
              "    .dataframe tbody tr th:only-of-type {\n",
              "        vertical-align: middle;\n",
              "    }\n",
              "\n",
              "    .dataframe tbody tr th {\n",
              "        vertical-align: top;\n",
              "    }\n",
              "\n",
              "    .dataframe thead th {\n",
              "        text-align: right;\n",
              "    }\n",
              "</style>\n",
              "<table border=\"1\" class=\"dataframe\">\n",
              "  <thead>\n",
              "    <tr style=\"text-align: right;\">\n",
              "      <th></th>\n",
              "      <th>ID</th>\n",
              "      <th>Warehouse_block</th>\n",
              "      <th>Mode_of_Shipment</th>\n",
              "      <th>Customer_care_calls</th>\n",
              "      <th>Customer_rating</th>\n",
              "      <th>Cost_of_the_Product</th>\n",
              "      <th>Prior_purchases</th>\n",
              "      <th>Product_importance</th>\n",
              "      <th>Gender</th>\n",
              "      <th>Discount_offered</th>\n",
              "      <th>Weight_in_gms</th>\n",
              "      <th>Reached.on.Time_Y.N</th>\n",
              "    </tr>\n",
              "  </thead>\n",
              "  <tbody>\n",
              "    <tr>\n",
              "      <th>0</th>\n",
              "      <td>1</td>\n",
              "      <td>D</td>\n",
              "      <td>Flight</td>\n",
              "      <td>4</td>\n",
              "      <td>2</td>\n",
              "      <td>177</td>\n",
              "      <td>3</td>\n",
              "      <td>low</td>\n",
              "      <td>F</td>\n",
              "      <td>44</td>\n",
              "      <td>1233</td>\n",
              "      <td>1</td>\n",
              "    </tr>\n",
              "    <tr>\n",
              "      <th>1</th>\n",
              "      <td>2</td>\n",
              "      <td>F</td>\n",
              "      <td>Flight</td>\n",
              "      <td>4</td>\n",
              "      <td>5</td>\n",
              "      <td>216</td>\n",
              "      <td>2</td>\n",
              "      <td>low</td>\n",
              "      <td>M</td>\n",
              "      <td>59</td>\n",
              "      <td>3088</td>\n",
              "      <td>1</td>\n",
              "    </tr>\n",
              "    <tr>\n",
              "      <th>2</th>\n",
              "      <td>3</td>\n",
              "      <td>A</td>\n",
              "      <td>Flight</td>\n",
              "      <td>2</td>\n",
              "      <td>2</td>\n",
              "      <td>183</td>\n",
              "      <td>4</td>\n",
              "      <td>low</td>\n",
              "      <td>M</td>\n",
              "      <td>48</td>\n",
              "      <td>3374</td>\n",
              "      <td>1</td>\n",
              "    </tr>\n",
              "    <tr>\n",
              "      <th>3</th>\n",
              "      <td>4</td>\n",
              "      <td>B</td>\n",
              "      <td>Flight</td>\n",
              "      <td>3</td>\n",
              "      <td>3</td>\n",
              "      <td>176</td>\n",
              "      <td>4</td>\n",
              "      <td>medium</td>\n",
              "      <td>M</td>\n",
              "      <td>10</td>\n",
              "      <td>1177</td>\n",
              "      <td>1</td>\n",
              "    </tr>\n",
              "    <tr>\n",
              "      <th>4</th>\n",
              "      <td>5</td>\n",
              "      <td>C</td>\n",
              "      <td>Flight</td>\n",
              "      <td>2</td>\n",
              "      <td>2</td>\n",
              "      <td>184</td>\n",
              "      <td>3</td>\n",
              "      <td>medium</td>\n",
              "      <td>F</td>\n",
              "      <td>46</td>\n",
              "      <td>2484</td>\n",
              "      <td>1</td>\n",
              "    </tr>\n",
              "  </tbody>\n",
              "</table>\n",
              "</div>\n",
              "      <button class=\"colab-df-convert\" onclick=\"convertToInteractive('df-666e3409-f3d2-41ed-b5ce-880b86c0bd93')\"\n",
              "              title=\"Convert this dataframe to an interactive table.\"\n",
              "              style=\"display:none;\">\n",
              "        \n",
              "  <svg xmlns=\"http://www.w3.org/2000/svg\" height=\"24px\"viewBox=\"0 0 24 24\"\n",
              "       width=\"24px\">\n",
              "    <path d=\"M0 0h24v24H0V0z\" fill=\"none\"/>\n",
              "    <path d=\"M18.56 5.44l.94 2.06.94-2.06 2.06-.94-2.06-.94-.94-2.06-.94 2.06-2.06.94zm-11 1L8.5 8.5l.94-2.06 2.06-.94-2.06-.94L8.5 2.5l-.94 2.06-2.06.94zm10 10l.94 2.06.94-2.06 2.06-.94-2.06-.94-.94-2.06-.94 2.06-2.06.94z\"/><path d=\"M17.41 7.96l-1.37-1.37c-.4-.4-.92-.59-1.43-.59-.52 0-1.04.2-1.43.59L10.3 9.45l-7.72 7.72c-.78.78-.78 2.05 0 2.83L4 21.41c.39.39.9.59 1.41.59.51 0 1.02-.2 1.41-.59l7.78-7.78 2.81-2.81c.8-.78.8-2.07 0-2.86zM5.41 20L4 18.59l7.72-7.72 1.47 1.35L5.41 20z\"/>\n",
              "  </svg>\n",
              "      </button>\n",
              "      \n",
              "  <style>\n",
              "    .colab-df-container {\n",
              "      display:flex;\n",
              "      flex-wrap:wrap;\n",
              "      gap: 12px;\n",
              "    }\n",
              "\n",
              "    .colab-df-convert {\n",
              "      background-color: #E8F0FE;\n",
              "      border: none;\n",
              "      border-radius: 50%;\n",
              "      cursor: pointer;\n",
              "      display: none;\n",
              "      fill: #1967D2;\n",
              "      height: 32px;\n",
              "      padding: 0 0 0 0;\n",
              "      width: 32px;\n",
              "    }\n",
              "\n",
              "    .colab-df-convert:hover {\n",
              "      background-color: #E2EBFA;\n",
              "      box-shadow: 0px 1px 2px rgba(60, 64, 67, 0.3), 0px 1px 3px 1px rgba(60, 64, 67, 0.15);\n",
              "      fill: #174EA6;\n",
              "    }\n",
              "\n",
              "    [theme=dark] .colab-df-convert {\n",
              "      background-color: #3B4455;\n",
              "      fill: #D2E3FC;\n",
              "    }\n",
              "\n",
              "    [theme=dark] .colab-df-convert:hover {\n",
              "      background-color: #434B5C;\n",
              "      box-shadow: 0px 1px 3px 1px rgba(0, 0, 0, 0.15);\n",
              "      filter: drop-shadow(0px 1px 2px rgba(0, 0, 0, 0.3));\n",
              "      fill: #FFFFFF;\n",
              "    }\n",
              "  </style>\n",
              "\n",
              "      <script>\n",
              "        const buttonEl =\n",
              "          document.querySelector('#df-666e3409-f3d2-41ed-b5ce-880b86c0bd93 button.colab-df-convert');\n",
              "        buttonEl.style.display =\n",
              "          google.colab.kernel.accessAllowed ? 'block' : 'none';\n",
              "\n",
              "        async function convertToInteractive(key) {\n",
              "          const element = document.querySelector('#df-666e3409-f3d2-41ed-b5ce-880b86c0bd93');\n",
              "          const dataTable =\n",
              "            await google.colab.kernel.invokeFunction('convertToInteractive',\n",
              "                                                     [key], {});\n",
              "          if (!dataTable) return;\n",
              "\n",
              "          const docLinkHtml = 'Like what you see? Visit the ' +\n",
              "            '<a target=\"_blank\" href=https://colab.research.google.com/notebooks/data_table.ipynb>data table notebook</a>'\n",
              "            + ' to learn more about interactive tables.';\n",
              "          element.innerHTML = '';\n",
              "          dataTable['output_type'] = 'display_data';\n",
              "          await google.colab.output.renderOutput(dataTable, element);\n",
              "          const docLink = document.createElement('div');\n",
              "          docLink.innerHTML = docLinkHtml;\n",
              "          element.appendChild(docLink);\n",
              "        }\n",
              "      </script>\n",
              "    </div>\n",
              "  </div>\n",
              "  "
            ]
          },
          "metadata": {},
          "execution_count": 4
        }
      ],
      "source": [
        "df = pd.read_csv(\"sample_data/Train.csv\")\n",
        "df.head()"
      ]
    },
    {
      "cell_type": "markdown",
      "metadata": {
        "id": "zz5NraaIAv8t"
      },
      "source": [
        "**Preliminary Data Analysis**"
      ]
    },
    {
      "cell_type": "code",
      "execution_count": 5,
      "metadata": {
        "colab": {
          "base_uri": "https://localhost:8080/"
        },
        "id": "kOZ3Y7nzART_",
        "outputId": "e3e5a950-583b-4d38-9bd8-0b441c8ad6a0"
      },
      "outputs": [
        {
          "output_type": "stream",
          "name": "stdout",
          "text": [
            "<class 'pandas.core.frame.DataFrame'>\n",
            "RangeIndex: 10999 entries, 0 to 10998\n",
            "Data columns (total 12 columns):\n",
            " #   Column               Non-Null Count  Dtype \n",
            "---  ------               --------------  ----- \n",
            " 0   ID                   10999 non-null  int64 \n",
            " 1   Warehouse_block      10999 non-null  object\n",
            " 2   Mode_of_Shipment     10999 non-null  object\n",
            " 3   Customer_care_calls  10999 non-null  int64 \n",
            " 4   Customer_rating      10999 non-null  int64 \n",
            " 5   Cost_of_the_Product  10999 non-null  int64 \n",
            " 6   Prior_purchases      10999 non-null  int64 \n",
            " 7   Product_importance   10999 non-null  object\n",
            " 8   Gender               10999 non-null  object\n",
            " 9   Discount_offered     10999 non-null  int64 \n",
            " 10  Weight_in_gms        10999 non-null  int64 \n",
            " 11  Reached.on.Time_Y.N  10999 non-null  int64 \n",
            "dtypes: int64(8), object(4)\n",
            "memory usage: 1.0+ MB\n"
          ]
        }
      ],
      "source": [
        "df.info()"
      ]
    },
    {
      "cell_type": "code",
      "execution_count": 6,
      "metadata": {
        "colab": {
          "base_uri": "https://localhost:8080/",
          "height": 344
        },
        "id": "r5suMCAAAZeM",
        "outputId": "19b2063b-9e5c-4a4d-ebbd-59f56c38fd24"
      },
      "outputs": [
        {
          "output_type": "execute_result",
          "data": {
            "text/plain": [
              "                ID  Customer_care_calls  Customer_rating  Cost_of_the_Product  \\\n",
              "count  10999.00000         10999.000000     10999.000000         10999.000000   \n",
              "mean    5500.00000             4.054459         2.990545           210.196836   \n",
              "std     3175.28214             1.141490         1.413603            48.063272   \n",
              "min        1.00000             2.000000         1.000000            96.000000   \n",
              "25%     2750.50000             3.000000         2.000000           169.000000   \n",
              "50%     5500.00000             4.000000         3.000000           214.000000   \n",
              "75%     8249.50000             5.000000         4.000000           251.000000   \n",
              "max    10999.00000             7.000000         5.000000           310.000000   \n",
              "\n",
              "       Prior_purchases  Discount_offered  Weight_in_gms  Reached.on.Time_Y.N  \n",
              "count     10999.000000      10999.000000   10999.000000         10999.000000  \n",
              "mean          3.567597         13.373216    3634.016729             0.596691  \n",
              "std           1.522860         16.205527    1635.377251             0.490584  \n",
              "min           2.000000          1.000000    1001.000000             0.000000  \n",
              "25%           3.000000          4.000000    1839.500000             0.000000  \n",
              "50%           3.000000          7.000000    4149.000000             1.000000  \n",
              "75%           4.000000         10.000000    5050.000000             1.000000  \n",
              "max          10.000000         65.000000    7846.000000             1.000000  "
            ],
            "text/html": [
              "\n",
              "  <div id=\"df-546147f4-0dec-47ad-8d28-8feb23300707\">\n",
              "    <div class=\"colab-df-container\">\n",
              "      <div>\n",
              "<style scoped>\n",
              "    .dataframe tbody tr th:only-of-type {\n",
              "        vertical-align: middle;\n",
              "    }\n",
              "\n",
              "    .dataframe tbody tr th {\n",
              "        vertical-align: top;\n",
              "    }\n",
              "\n",
              "    .dataframe thead th {\n",
              "        text-align: right;\n",
              "    }\n",
              "</style>\n",
              "<table border=\"1\" class=\"dataframe\">\n",
              "  <thead>\n",
              "    <tr style=\"text-align: right;\">\n",
              "      <th></th>\n",
              "      <th>ID</th>\n",
              "      <th>Customer_care_calls</th>\n",
              "      <th>Customer_rating</th>\n",
              "      <th>Cost_of_the_Product</th>\n",
              "      <th>Prior_purchases</th>\n",
              "      <th>Discount_offered</th>\n",
              "      <th>Weight_in_gms</th>\n",
              "      <th>Reached.on.Time_Y.N</th>\n",
              "    </tr>\n",
              "  </thead>\n",
              "  <tbody>\n",
              "    <tr>\n",
              "      <th>count</th>\n",
              "      <td>10999.00000</td>\n",
              "      <td>10999.000000</td>\n",
              "      <td>10999.000000</td>\n",
              "      <td>10999.000000</td>\n",
              "      <td>10999.000000</td>\n",
              "      <td>10999.000000</td>\n",
              "      <td>10999.000000</td>\n",
              "      <td>10999.000000</td>\n",
              "    </tr>\n",
              "    <tr>\n",
              "      <th>mean</th>\n",
              "      <td>5500.00000</td>\n",
              "      <td>4.054459</td>\n",
              "      <td>2.990545</td>\n",
              "      <td>210.196836</td>\n",
              "      <td>3.567597</td>\n",
              "      <td>13.373216</td>\n",
              "      <td>3634.016729</td>\n",
              "      <td>0.596691</td>\n",
              "    </tr>\n",
              "    <tr>\n",
              "      <th>std</th>\n",
              "      <td>3175.28214</td>\n",
              "      <td>1.141490</td>\n",
              "      <td>1.413603</td>\n",
              "      <td>48.063272</td>\n",
              "      <td>1.522860</td>\n",
              "      <td>16.205527</td>\n",
              "      <td>1635.377251</td>\n",
              "      <td>0.490584</td>\n",
              "    </tr>\n",
              "    <tr>\n",
              "      <th>min</th>\n",
              "      <td>1.00000</td>\n",
              "      <td>2.000000</td>\n",
              "      <td>1.000000</td>\n",
              "      <td>96.000000</td>\n",
              "      <td>2.000000</td>\n",
              "      <td>1.000000</td>\n",
              "      <td>1001.000000</td>\n",
              "      <td>0.000000</td>\n",
              "    </tr>\n",
              "    <tr>\n",
              "      <th>25%</th>\n",
              "      <td>2750.50000</td>\n",
              "      <td>3.000000</td>\n",
              "      <td>2.000000</td>\n",
              "      <td>169.000000</td>\n",
              "      <td>3.000000</td>\n",
              "      <td>4.000000</td>\n",
              "      <td>1839.500000</td>\n",
              "      <td>0.000000</td>\n",
              "    </tr>\n",
              "    <tr>\n",
              "      <th>50%</th>\n",
              "      <td>5500.00000</td>\n",
              "      <td>4.000000</td>\n",
              "      <td>3.000000</td>\n",
              "      <td>214.000000</td>\n",
              "      <td>3.000000</td>\n",
              "      <td>7.000000</td>\n",
              "      <td>4149.000000</td>\n",
              "      <td>1.000000</td>\n",
              "    </tr>\n",
              "    <tr>\n",
              "      <th>75%</th>\n",
              "      <td>8249.50000</td>\n",
              "      <td>5.000000</td>\n",
              "      <td>4.000000</td>\n",
              "      <td>251.000000</td>\n",
              "      <td>4.000000</td>\n",
              "      <td>10.000000</td>\n",
              "      <td>5050.000000</td>\n",
              "      <td>1.000000</td>\n",
              "    </tr>\n",
              "    <tr>\n",
              "      <th>max</th>\n",
              "      <td>10999.00000</td>\n",
              "      <td>7.000000</td>\n",
              "      <td>5.000000</td>\n",
              "      <td>310.000000</td>\n",
              "      <td>10.000000</td>\n",
              "      <td>65.000000</td>\n",
              "      <td>7846.000000</td>\n",
              "      <td>1.000000</td>\n",
              "    </tr>\n",
              "  </tbody>\n",
              "</table>\n",
              "</div>\n",
              "      <button class=\"colab-df-convert\" onclick=\"convertToInteractive('df-546147f4-0dec-47ad-8d28-8feb23300707')\"\n",
              "              title=\"Convert this dataframe to an interactive table.\"\n",
              "              style=\"display:none;\">\n",
              "        \n",
              "  <svg xmlns=\"http://www.w3.org/2000/svg\" height=\"24px\"viewBox=\"0 0 24 24\"\n",
              "       width=\"24px\">\n",
              "    <path d=\"M0 0h24v24H0V0z\" fill=\"none\"/>\n",
              "    <path d=\"M18.56 5.44l.94 2.06.94-2.06 2.06-.94-2.06-.94-.94-2.06-.94 2.06-2.06.94zm-11 1L8.5 8.5l.94-2.06 2.06-.94-2.06-.94L8.5 2.5l-.94 2.06-2.06.94zm10 10l.94 2.06.94-2.06 2.06-.94-2.06-.94-.94-2.06-.94 2.06-2.06.94z\"/><path d=\"M17.41 7.96l-1.37-1.37c-.4-.4-.92-.59-1.43-.59-.52 0-1.04.2-1.43.59L10.3 9.45l-7.72 7.72c-.78.78-.78 2.05 0 2.83L4 21.41c.39.39.9.59 1.41.59.51 0 1.02-.2 1.41-.59l7.78-7.78 2.81-2.81c.8-.78.8-2.07 0-2.86zM5.41 20L4 18.59l7.72-7.72 1.47 1.35L5.41 20z\"/>\n",
              "  </svg>\n",
              "      </button>\n",
              "      \n",
              "  <style>\n",
              "    .colab-df-container {\n",
              "      display:flex;\n",
              "      flex-wrap:wrap;\n",
              "      gap: 12px;\n",
              "    }\n",
              "\n",
              "    .colab-df-convert {\n",
              "      background-color: #E8F0FE;\n",
              "      border: none;\n",
              "      border-radius: 50%;\n",
              "      cursor: pointer;\n",
              "      display: none;\n",
              "      fill: #1967D2;\n",
              "      height: 32px;\n",
              "      padding: 0 0 0 0;\n",
              "      width: 32px;\n",
              "    }\n",
              "\n",
              "    .colab-df-convert:hover {\n",
              "      background-color: #E2EBFA;\n",
              "      box-shadow: 0px 1px 2px rgba(60, 64, 67, 0.3), 0px 1px 3px 1px rgba(60, 64, 67, 0.15);\n",
              "      fill: #174EA6;\n",
              "    }\n",
              "\n",
              "    [theme=dark] .colab-df-convert {\n",
              "      background-color: #3B4455;\n",
              "      fill: #D2E3FC;\n",
              "    }\n",
              "\n",
              "    [theme=dark] .colab-df-convert:hover {\n",
              "      background-color: #434B5C;\n",
              "      box-shadow: 0px 1px 3px 1px rgba(0, 0, 0, 0.15);\n",
              "      filter: drop-shadow(0px 1px 2px rgba(0, 0, 0, 0.3));\n",
              "      fill: #FFFFFF;\n",
              "    }\n",
              "  </style>\n",
              "\n",
              "      <script>\n",
              "        const buttonEl =\n",
              "          document.querySelector('#df-546147f4-0dec-47ad-8d28-8feb23300707 button.colab-df-convert');\n",
              "        buttonEl.style.display =\n",
              "          google.colab.kernel.accessAllowed ? 'block' : 'none';\n",
              "\n",
              "        async function convertToInteractive(key) {\n",
              "          const element = document.querySelector('#df-546147f4-0dec-47ad-8d28-8feb23300707');\n",
              "          const dataTable =\n",
              "            await google.colab.kernel.invokeFunction('convertToInteractive',\n",
              "                                                     [key], {});\n",
              "          if (!dataTable) return;\n",
              "\n",
              "          const docLinkHtml = 'Like what you see? Visit the ' +\n",
              "            '<a target=\"_blank\" href=https://colab.research.google.com/notebooks/data_table.ipynb>data table notebook</a>'\n",
              "            + ' to learn more about interactive tables.';\n",
              "          element.innerHTML = '';\n",
              "          dataTable['output_type'] = 'display_data';\n",
              "          await google.colab.output.renderOutput(dataTable, element);\n",
              "          const docLink = document.createElement('div');\n",
              "          docLink.innerHTML = docLinkHtml;\n",
              "          element.appendChild(docLink);\n",
              "        }\n",
              "      </script>\n",
              "    </div>\n",
              "  </div>\n",
              "  "
            ]
          },
          "metadata": {},
          "execution_count": 6
        }
      ],
      "source": [
        "df.describe()"
      ]
    },
    {
      "cell_type": "markdown",
      "metadata": {
        "id": "Y5RdNhg8Cdnh"
      },
      "source": [
        "**Checking the Missing Values**"
      ]
    },
    {
      "cell_type": "code",
      "execution_count": 7,
      "metadata": {
        "colab": {
          "base_uri": "https://localhost:8080/"
        },
        "id": "IY1Jlt7NAj3S",
        "outputId": "51e517a9-5d4f-4c74-ca2d-820bb1b35cfe"
      },
      "outputs": [
        {
          "output_type": "execute_result",
          "data": {
            "text/plain": [
              "ID                     0\n",
              "Warehouse_block        0\n",
              "Mode_of_Shipment       0\n",
              "Customer_care_calls    0\n",
              "Customer_rating        0\n",
              "Cost_of_the_Product    0\n",
              "Prior_purchases        0\n",
              "Product_importance     0\n",
              "Gender                 0\n",
              "Discount_offered       0\n",
              "Weight_in_gms          0\n",
              "Reached.on.Time_Y.N    0\n",
              "dtype: int64"
            ]
          },
          "metadata": {},
          "execution_count": 7
        }
      ],
      "source": [
        "df.isnull().sum()"
      ]
    },
    {
      "cell_type": "markdown",
      "metadata": {
        "id": "M0KgUHjOCj5Z"
      },
      "source": [
        "There is no missing value in the datasets as you can see all the values has 0 missing data."
      ]
    },
    {
      "cell_type": "markdown",
      "metadata": {
        "id": "xuu3grO1CtEC"
      },
      "source": [
        "**Checking Duplicate Values**"
      ]
    },
    {
      "cell_type": "code",
      "execution_count": 8,
      "metadata": {
        "colab": {
          "base_uri": "https://localhost:8080/"
        },
        "id": "rg5z_svLBZhf",
        "outputId": "ae37ba8d-59f2-499b-fc87-99d8d019cf7d"
      },
      "outputs": [
        {
          "output_type": "execute_result",
          "data": {
            "text/plain": [
              "0"
            ]
          },
          "metadata": {},
          "execution_count": 8
        }
      ],
      "source": [
        "df.duplicated().sum()"
      ]
    },
    {
      "cell_type": "markdown",
      "metadata": {
        "id": "0xaZL9UWCzhK"
      },
      "source": [
        "Hence, there is no any duplicate values in datasets"
      ]
    },
    {
      "cell_type": "code",
      "execution_count": 9,
      "metadata": {
        "colab": {
          "base_uri": "https://localhost:8080/",
          "height": 270
        },
        "id": "9U4yFb4yBj39",
        "outputId": "70f225c6-c6ca-4b7d-c1de-3007cec8b6c8"
      },
      "outputs": [
        {
          "output_type": "execute_result",
          "data": {
            "text/plain": [
              "   ID Warehouse_block Mode_of_Shipment  Customer_care_calls  Customer_rating  \\\n",
              "0   1               D           Flight                    4                2   \n",
              "1   2               F           Flight                    4                5   \n",
              "2   3               A           Flight                    2                2   \n",
              "3   4               B           Flight                    3                3   \n",
              "4   5               C           Flight                    2                2   \n",
              "\n",
              "   Cost_of_the_Product  Prior_purchases Product_importance Gender  \\\n",
              "0                  177                3                low      F   \n",
              "1                  216                2                low      M   \n",
              "2                  183                4                low      M   \n",
              "3                  176                4             medium      M   \n",
              "4                  184                3             medium      F   \n",
              "\n",
              "   Discount_offered  Weight_in_gms  Target  \n",
              "0                44           1233       1  \n",
              "1                59           3088       1  \n",
              "2                48           3374       1  \n",
              "3                10           1177       1  \n",
              "4                46           2484       1  "
            ],
            "text/html": [
              "\n",
              "  <div id=\"df-72f02a22-60b1-40c6-afbd-c635a1f123b2\">\n",
              "    <div class=\"colab-df-container\">\n",
              "      <div>\n",
              "<style scoped>\n",
              "    .dataframe tbody tr th:only-of-type {\n",
              "        vertical-align: middle;\n",
              "    }\n",
              "\n",
              "    .dataframe tbody tr th {\n",
              "        vertical-align: top;\n",
              "    }\n",
              "\n",
              "    .dataframe thead th {\n",
              "        text-align: right;\n",
              "    }\n",
              "</style>\n",
              "<table border=\"1\" class=\"dataframe\">\n",
              "  <thead>\n",
              "    <tr style=\"text-align: right;\">\n",
              "      <th></th>\n",
              "      <th>ID</th>\n",
              "      <th>Warehouse_block</th>\n",
              "      <th>Mode_of_Shipment</th>\n",
              "      <th>Customer_care_calls</th>\n",
              "      <th>Customer_rating</th>\n",
              "      <th>Cost_of_the_Product</th>\n",
              "      <th>Prior_purchases</th>\n",
              "      <th>Product_importance</th>\n",
              "      <th>Gender</th>\n",
              "      <th>Discount_offered</th>\n",
              "      <th>Weight_in_gms</th>\n",
              "      <th>Target</th>\n",
              "    </tr>\n",
              "  </thead>\n",
              "  <tbody>\n",
              "    <tr>\n",
              "      <th>0</th>\n",
              "      <td>1</td>\n",
              "      <td>D</td>\n",
              "      <td>Flight</td>\n",
              "      <td>4</td>\n",
              "      <td>2</td>\n",
              "      <td>177</td>\n",
              "      <td>3</td>\n",
              "      <td>low</td>\n",
              "      <td>F</td>\n",
              "      <td>44</td>\n",
              "      <td>1233</td>\n",
              "      <td>1</td>\n",
              "    </tr>\n",
              "    <tr>\n",
              "      <th>1</th>\n",
              "      <td>2</td>\n",
              "      <td>F</td>\n",
              "      <td>Flight</td>\n",
              "      <td>4</td>\n",
              "      <td>5</td>\n",
              "      <td>216</td>\n",
              "      <td>2</td>\n",
              "      <td>low</td>\n",
              "      <td>M</td>\n",
              "      <td>59</td>\n",
              "      <td>3088</td>\n",
              "      <td>1</td>\n",
              "    </tr>\n",
              "    <tr>\n",
              "      <th>2</th>\n",
              "      <td>3</td>\n",
              "      <td>A</td>\n",
              "      <td>Flight</td>\n",
              "      <td>2</td>\n",
              "      <td>2</td>\n",
              "      <td>183</td>\n",
              "      <td>4</td>\n",
              "      <td>low</td>\n",
              "      <td>M</td>\n",
              "      <td>48</td>\n",
              "      <td>3374</td>\n",
              "      <td>1</td>\n",
              "    </tr>\n",
              "    <tr>\n",
              "      <th>3</th>\n",
              "      <td>4</td>\n",
              "      <td>B</td>\n",
              "      <td>Flight</td>\n",
              "      <td>3</td>\n",
              "      <td>3</td>\n",
              "      <td>176</td>\n",
              "      <td>4</td>\n",
              "      <td>medium</td>\n",
              "      <td>M</td>\n",
              "      <td>10</td>\n",
              "      <td>1177</td>\n",
              "      <td>1</td>\n",
              "    </tr>\n",
              "    <tr>\n",
              "      <th>4</th>\n",
              "      <td>5</td>\n",
              "      <td>C</td>\n",
              "      <td>Flight</td>\n",
              "      <td>2</td>\n",
              "      <td>2</td>\n",
              "      <td>184</td>\n",
              "      <td>3</td>\n",
              "      <td>medium</td>\n",
              "      <td>F</td>\n",
              "      <td>46</td>\n",
              "      <td>2484</td>\n",
              "      <td>1</td>\n",
              "    </tr>\n",
              "  </tbody>\n",
              "</table>\n",
              "</div>\n",
              "      <button class=\"colab-df-convert\" onclick=\"convertToInteractive('df-72f02a22-60b1-40c6-afbd-c635a1f123b2')\"\n",
              "              title=\"Convert this dataframe to an interactive table.\"\n",
              "              style=\"display:none;\">\n",
              "        \n",
              "  <svg xmlns=\"http://www.w3.org/2000/svg\" height=\"24px\"viewBox=\"0 0 24 24\"\n",
              "       width=\"24px\">\n",
              "    <path d=\"M0 0h24v24H0V0z\" fill=\"none\"/>\n",
              "    <path d=\"M18.56 5.44l.94 2.06.94-2.06 2.06-.94-2.06-.94-.94-2.06-.94 2.06-2.06.94zm-11 1L8.5 8.5l.94-2.06 2.06-.94-2.06-.94L8.5 2.5l-.94 2.06-2.06.94zm10 10l.94 2.06.94-2.06 2.06-.94-2.06-.94-.94-2.06-.94 2.06-2.06.94z\"/><path d=\"M17.41 7.96l-1.37-1.37c-.4-.4-.92-.59-1.43-.59-.52 0-1.04.2-1.43.59L10.3 9.45l-7.72 7.72c-.78.78-.78 2.05 0 2.83L4 21.41c.39.39.9.59 1.41.59.51 0 1.02-.2 1.41-.59l7.78-7.78 2.81-2.81c.8-.78.8-2.07 0-2.86zM5.41 20L4 18.59l7.72-7.72 1.47 1.35L5.41 20z\"/>\n",
              "  </svg>\n",
              "      </button>\n",
              "      \n",
              "  <style>\n",
              "    .colab-df-container {\n",
              "      display:flex;\n",
              "      flex-wrap:wrap;\n",
              "      gap: 12px;\n",
              "    }\n",
              "\n",
              "    .colab-df-convert {\n",
              "      background-color: #E8F0FE;\n",
              "      border: none;\n",
              "      border-radius: 50%;\n",
              "      cursor: pointer;\n",
              "      display: none;\n",
              "      fill: #1967D2;\n",
              "      height: 32px;\n",
              "      padding: 0 0 0 0;\n",
              "      width: 32px;\n",
              "    }\n",
              "\n",
              "    .colab-df-convert:hover {\n",
              "      background-color: #E2EBFA;\n",
              "      box-shadow: 0px 1px 2px rgba(60, 64, 67, 0.3), 0px 1px 3px 1px rgba(60, 64, 67, 0.15);\n",
              "      fill: #174EA6;\n",
              "    }\n",
              "\n",
              "    [theme=dark] .colab-df-convert {\n",
              "      background-color: #3B4455;\n",
              "      fill: #D2E3FC;\n",
              "    }\n",
              "\n",
              "    [theme=dark] .colab-df-convert:hover {\n",
              "      background-color: #434B5C;\n",
              "      box-shadow: 0px 1px 3px 1px rgba(0, 0, 0, 0.15);\n",
              "      filter: drop-shadow(0px 1px 2px rgba(0, 0, 0, 0.3));\n",
              "      fill: #FFFFFF;\n",
              "    }\n",
              "  </style>\n",
              "\n",
              "      <script>\n",
              "        const buttonEl =\n",
              "          document.querySelector('#df-72f02a22-60b1-40c6-afbd-c635a1f123b2 button.colab-df-convert');\n",
              "        buttonEl.style.display =\n",
              "          google.colab.kernel.accessAllowed ? 'block' : 'none';\n",
              "\n",
              "        async function convertToInteractive(key) {\n",
              "          const element = document.querySelector('#df-72f02a22-60b1-40c6-afbd-c635a1f123b2');\n",
              "          const dataTable =\n",
              "            await google.colab.kernel.invokeFunction('convertToInteractive',\n",
              "                                                     [key], {});\n",
              "          if (!dataTable) return;\n",
              "\n",
              "          const docLinkHtml = 'Like what you see? Visit the ' +\n",
              "            '<a target=\"_blank\" href=https://colab.research.google.com/notebooks/data_table.ipynb>data table notebook</a>'\n",
              "            + ' to learn more about interactive tables.';\n",
              "          element.innerHTML = '';\n",
              "          dataTable['output_type'] = 'display_data';\n",
              "          await google.colab.output.renderOutput(dataTable, element);\n",
              "          const docLink = document.createElement('div');\n",
              "          docLink.innerHTML = docLinkHtml;\n",
              "          element.appendChild(docLink);\n",
              "        }\n",
              "      </script>\n",
              "    </div>\n",
              "  </div>\n",
              "  "
            ]
          },
          "metadata": {},
          "execution_count": 9
        }
      ],
      "source": [
        "# change the target\n",
        "df.rename(columns={'Reached.on.Time_Y.N':'Target'},inplace=True)\n",
        "df.head()"
      ]
    },
    {
      "cell_type": "markdown",
      "metadata": {
        "id": "WdDkaGc2jAmV"
      },
      "source": [
        " Rename the column for easiness for future from 'Reached.on.Time_Y.N' to 'Target'"
      ]
    },
    {
      "cell_type": "code",
      "execution_count": 10,
      "metadata": {
        "id": "BcfR032IEKTR"
      },
      "outputs": [],
      "source": [
        "df.drop(columns={'ID','Gender'},inplace=True,axis=1)"
      ]
    },
    {
      "cell_type": "markdown",
      "metadata": {
        "id": "uxOtu-nkjAmW"
      },
      "source": [
        "ID and Gender doesnot make any sence for our further analysis so we are removing it"
      ]
    },
    {
      "cell_type": "code",
      "execution_count": 11,
      "metadata": {
        "colab": {
          "base_uri": "https://localhost:8080/",
          "height": 270
        },
        "id": "g3RzuCMXEVso",
        "outputId": "6fcb5e88-a5e0-4836-f6de-a04eb7ebcfd8"
      },
      "outputs": [
        {
          "output_type": "execute_result",
          "data": {
            "text/plain": [
              "  Warehouse_block Mode_of_Shipment  Customer_care_calls  Customer_rating  \\\n",
              "0               D           Flight                    4                2   \n",
              "1               F           Flight                    4                5   \n",
              "2               A           Flight                    2                2   \n",
              "3               B           Flight                    3                3   \n",
              "4               C           Flight                    2                2   \n",
              "\n",
              "   Cost_of_the_Product  Prior_purchases Product_importance  Discount_offered  \\\n",
              "0                  177                3                low                44   \n",
              "1                  216                2                low                59   \n",
              "2                  183                4                low                48   \n",
              "3                  176                4             medium                10   \n",
              "4                  184                3             medium                46   \n",
              "\n",
              "   Weight_in_gms  Target  \n",
              "0           1233       1  \n",
              "1           3088       1  \n",
              "2           3374       1  \n",
              "3           1177       1  \n",
              "4           2484       1  "
            ],
            "text/html": [
              "\n",
              "  <div id=\"df-ff90ca95-565a-4dea-8f7b-6665f9f25424\">\n",
              "    <div class=\"colab-df-container\">\n",
              "      <div>\n",
              "<style scoped>\n",
              "    .dataframe tbody tr th:only-of-type {\n",
              "        vertical-align: middle;\n",
              "    }\n",
              "\n",
              "    .dataframe tbody tr th {\n",
              "        vertical-align: top;\n",
              "    }\n",
              "\n",
              "    .dataframe thead th {\n",
              "        text-align: right;\n",
              "    }\n",
              "</style>\n",
              "<table border=\"1\" class=\"dataframe\">\n",
              "  <thead>\n",
              "    <tr style=\"text-align: right;\">\n",
              "      <th></th>\n",
              "      <th>Warehouse_block</th>\n",
              "      <th>Mode_of_Shipment</th>\n",
              "      <th>Customer_care_calls</th>\n",
              "      <th>Customer_rating</th>\n",
              "      <th>Cost_of_the_Product</th>\n",
              "      <th>Prior_purchases</th>\n",
              "      <th>Product_importance</th>\n",
              "      <th>Discount_offered</th>\n",
              "      <th>Weight_in_gms</th>\n",
              "      <th>Target</th>\n",
              "    </tr>\n",
              "  </thead>\n",
              "  <tbody>\n",
              "    <tr>\n",
              "      <th>0</th>\n",
              "      <td>D</td>\n",
              "      <td>Flight</td>\n",
              "      <td>4</td>\n",
              "      <td>2</td>\n",
              "      <td>177</td>\n",
              "      <td>3</td>\n",
              "      <td>low</td>\n",
              "      <td>44</td>\n",
              "      <td>1233</td>\n",
              "      <td>1</td>\n",
              "    </tr>\n",
              "    <tr>\n",
              "      <th>1</th>\n",
              "      <td>F</td>\n",
              "      <td>Flight</td>\n",
              "      <td>4</td>\n",
              "      <td>5</td>\n",
              "      <td>216</td>\n",
              "      <td>2</td>\n",
              "      <td>low</td>\n",
              "      <td>59</td>\n",
              "      <td>3088</td>\n",
              "      <td>1</td>\n",
              "    </tr>\n",
              "    <tr>\n",
              "      <th>2</th>\n",
              "      <td>A</td>\n",
              "      <td>Flight</td>\n",
              "      <td>2</td>\n",
              "      <td>2</td>\n",
              "      <td>183</td>\n",
              "      <td>4</td>\n",
              "      <td>low</td>\n",
              "      <td>48</td>\n",
              "      <td>3374</td>\n",
              "      <td>1</td>\n",
              "    </tr>\n",
              "    <tr>\n",
              "      <th>3</th>\n",
              "      <td>B</td>\n",
              "      <td>Flight</td>\n",
              "      <td>3</td>\n",
              "      <td>3</td>\n",
              "      <td>176</td>\n",
              "      <td>4</td>\n",
              "      <td>medium</td>\n",
              "      <td>10</td>\n",
              "      <td>1177</td>\n",
              "      <td>1</td>\n",
              "    </tr>\n",
              "    <tr>\n",
              "      <th>4</th>\n",
              "      <td>C</td>\n",
              "      <td>Flight</td>\n",
              "      <td>2</td>\n",
              "      <td>2</td>\n",
              "      <td>184</td>\n",
              "      <td>3</td>\n",
              "      <td>medium</td>\n",
              "      <td>46</td>\n",
              "      <td>2484</td>\n",
              "      <td>1</td>\n",
              "    </tr>\n",
              "  </tbody>\n",
              "</table>\n",
              "</div>\n",
              "      <button class=\"colab-df-convert\" onclick=\"convertToInteractive('df-ff90ca95-565a-4dea-8f7b-6665f9f25424')\"\n",
              "              title=\"Convert this dataframe to an interactive table.\"\n",
              "              style=\"display:none;\">\n",
              "        \n",
              "  <svg xmlns=\"http://www.w3.org/2000/svg\" height=\"24px\"viewBox=\"0 0 24 24\"\n",
              "       width=\"24px\">\n",
              "    <path d=\"M0 0h24v24H0V0z\" fill=\"none\"/>\n",
              "    <path d=\"M18.56 5.44l.94 2.06.94-2.06 2.06-.94-2.06-.94-.94-2.06-.94 2.06-2.06.94zm-11 1L8.5 8.5l.94-2.06 2.06-.94-2.06-.94L8.5 2.5l-.94 2.06-2.06.94zm10 10l.94 2.06.94-2.06 2.06-.94-2.06-.94-.94-2.06-.94 2.06-2.06.94z\"/><path d=\"M17.41 7.96l-1.37-1.37c-.4-.4-.92-.59-1.43-.59-.52 0-1.04.2-1.43.59L10.3 9.45l-7.72 7.72c-.78.78-.78 2.05 0 2.83L4 21.41c.39.39.9.59 1.41.59.51 0 1.02-.2 1.41-.59l7.78-7.78 2.81-2.81c.8-.78.8-2.07 0-2.86zM5.41 20L4 18.59l7.72-7.72 1.47 1.35L5.41 20z\"/>\n",
              "  </svg>\n",
              "      </button>\n",
              "      \n",
              "  <style>\n",
              "    .colab-df-container {\n",
              "      display:flex;\n",
              "      flex-wrap:wrap;\n",
              "      gap: 12px;\n",
              "    }\n",
              "\n",
              "    .colab-df-convert {\n",
              "      background-color: #E8F0FE;\n",
              "      border: none;\n",
              "      border-radius: 50%;\n",
              "      cursor: pointer;\n",
              "      display: none;\n",
              "      fill: #1967D2;\n",
              "      height: 32px;\n",
              "      padding: 0 0 0 0;\n",
              "      width: 32px;\n",
              "    }\n",
              "\n",
              "    .colab-df-convert:hover {\n",
              "      background-color: #E2EBFA;\n",
              "      box-shadow: 0px 1px 2px rgba(60, 64, 67, 0.3), 0px 1px 3px 1px rgba(60, 64, 67, 0.15);\n",
              "      fill: #174EA6;\n",
              "    }\n",
              "\n",
              "    [theme=dark] .colab-df-convert {\n",
              "      background-color: #3B4455;\n",
              "      fill: #D2E3FC;\n",
              "    }\n",
              "\n",
              "    [theme=dark] .colab-df-convert:hover {\n",
              "      background-color: #434B5C;\n",
              "      box-shadow: 0px 1px 3px 1px rgba(0, 0, 0, 0.15);\n",
              "      filter: drop-shadow(0px 1px 2px rgba(0, 0, 0, 0.3));\n",
              "      fill: #FFFFFF;\n",
              "    }\n",
              "  </style>\n",
              "\n",
              "      <script>\n",
              "        const buttonEl =\n",
              "          document.querySelector('#df-ff90ca95-565a-4dea-8f7b-6665f9f25424 button.colab-df-convert');\n",
              "        buttonEl.style.display =\n",
              "          google.colab.kernel.accessAllowed ? 'block' : 'none';\n",
              "\n",
              "        async function convertToInteractive(key) {\n",
              "          const element = document.querySelector('#df-ff90ca95-565a-4dea-8f7b-6665f9f25424');\n",
              "          const dataTable =\n",
              "            await google.colab.kernel.invokeFunction('convertToInteractive',\n",
              "                                                     [key], {});\n",
              "          if (!dataTable) return;\n",
              "\n",
              "          const docLinkHtml = 'Like what you see? Visit the ' +\n",
              "            '<a target=\"_blank\" href=https://colab.research.google.com/notebooks/data_table.ipynb>data table notebook</a>'\n",
              "            + ' to learn more about interactive tables.';\n",
              "          element.innerHTML = '';\n",
              "          dataTable['output_type'] = 'display_data';\n",
              "          await google.colab.output.renderOutput(dataTable, element);\n",
              "          const docLink = document.createElement('div');\n",
              "          docLink.innerHTML = docLinkHtml;\n",
              "          element.appendChild(docLink);\n",
              "        }\n",
              "      </script>\n",
              "    </div>\n",
              "  </div>\n",
              "  "
            ]
          },
          "metadata": {},
          "execution_count": 11
        }
      ],
      "source": [
        "df.head()"
      ]
    },
    {
      "cell_type": "markdown",
      "metadata": {
        "id": "R6epTvcfDfcB"
      },
      "source": [
        "Exploratory Data Analysis"
      ]
    },
    {
      "cell_type": "code",
      "execution_count": 12,
      "metadata": {
        "colab": {
          "base_uri": "https://localhost:8080/"
        },
        "id": "S7_Rtu6QDh2C",
        "outputId": "a244adad-f58f-43a9-e0d7-6e2d76056e7d"
      },
      "outputs": [
        {
          "output_type": "execute_result",
          "data": {
            "text/plain": [
              "Index(['Warehouse_block', 'Mode_of_Shipment', 'Customer_care_calls',\n",
              "       'Customer_rating', 'Cost_of_the_Product', 'Prior_purchases',\n",
              "       'Product_importance', 'Discount_offered', 'Weight_in_gms', 'Target'],\n",
              "      dtype='object')"
            ]
          },
          "metadata": {},
          "execution_count": 12
        }
      ],
      "source": [
        "df.columns"
      ]
    },
    {
      "cell_type": "code",
      "execution_count": 13,
      "metadata": {
        "colab": {
          "base_uri": "https://localhost:8080/",
          "height": 728
        },
        "id": "HAynF2KZDplx",
        "outputId": "85f046a8-d1a7-44c0-a189-bddac7b6433b"
      },
      "outputs": [
        {
          "output_type": "stream",
          "name": "stderr",
          "text": [
            "<ipython-input-13-3fe2abab93bf>:2: FutureWarning: The default value of numeric_only in DataFrame.corr is deprecated. In a future version, it will default to False. Select only valid columns or specify the value of numeric_only to silence this warning.\n",
            "  sns.heatmap(df.corr(),cmap='viridis',annot=True)\n"
          ]
        },
        {
          "output_type": "execute_result",
          "data": {
            "text/plain": [
              "<Axes: >"
            ]
          },
          "metadata": {},
          "execution_count": 13
        },
        {
          "output_type": "display_data",
          "data": {
            "text/plain": [
              "<Figure size 1200x600 with 2 Axes>"
            ],
            "image/png": "[encoded data removed]"
          },
          "metadata": {}
        }
      ],
      "source": [
        "plt.figure(figsize=(12,6))\n",
        "sns.heatmap(df.corr(),cmap='viridis',annot=True)"
      ]
    },
    {
      "cell_type": "markdown",
      "metadata": {
        "id": "PDAQYKV0jAmW"
      },
      "source": [
        "analysing the correlation to identify the statistical relationship between the columns in the dataset. According to the correlation heatmap above we find that target has highly correlated with discount offers."
      ]
    },
    {
      "cell_type": "markdown",
      "metadata": {
        "id": "L77gVyl8E8Zo"
      },
      "source": [
        "**Univariate analysis of Categorical Features**"
      ]
    },
    {
      "cell_type": "markdown",
      "metadata": {
        "id": "ScDN0qMGjAmW"
      },
      "source": [
        "we calculate the distribution of categorical variable i.e Warehouse_block,Mode_of_Shipment,Product_importance  block which is plot in histogram below"
      ]
    },
    {
      "cell_type": "code",
      "execution_count": 14,
      "metadata": {
        "colab": {
          "base_uri": "https://localhost:8080/"
        },
        "id": "fzL_pil1EvIo",
        "outputId": "d2806135-77f7-44a2-e3b9-e31cfb3486f8"
      },
      "outputs": [
        {
          "output_type": "execute_result",
          "data": {
            "text/plain": [
              "F    3666\n",
              "D    1834\n",
              "A    1833\n",
              "B    1833\n",
              "C    1833\n",
              "Name: Warehouse_block, dtype: int64"
            ]
          },
          "metadata": {},
          "execution_count": 14
        }
      ],
      "source": [
        "df.Warehouse_block.value_counts()"
      ]
    },
    {
      "cell_type": "code",
      "execution_count": 15,
      "metadata": {
        "colab": {
          "base_uri": "https://localhost:8080/",
          "height": 559
        },
        "id": "7umhvrkQFRiv",
        "outputId": "b626acea-496c-40b8-c976-a330d2f14796"
      },
      "outputs": [
        {
          "output_type": "execute_result",
          "data": {
            "text/plain": [
              "<Axes: xlabel='Warehouse_block', ylabel='count'>"
            ]
          },
          "metadata": {},
          "execution_count": 15
        },
        {
          "output_type": "display_data",
          "data": {
            "text/plain": [
              "<Figure size 600x600 with 1 Axes>"
            ],
            "image/png": "[encoded data removed]"
          },
          "metadata": {}
        }
      ],
      "source": [
        "plt.figure(figsize=(6,6))\n",
        "sns.countplot(data=df,x='Warehouse_block')"
      ]
    },
    {
      "cell_type": "code",
      "execution_count": 16,
      "metadata": {
        "colab": {
          "base_uri": "https://localhost:8080/"
        },
        "id": "mRBCwWZaE0KR",
        "outputId": "583634e9-20a2-4fa1-ec4c-570ea3a99ab2"
      },
      "outputs": [
        {
          "output_type": "execute_result",
          "data": {
            "text/plain": [
              "Ship      7462\n",
              "Flight    1777\n",
              "Road      1760\n",
              "Name: Mode_of_Shipment, dtype: int64"
            ]
          },
          "metadata": {},
          "execution_count": 16
        }
      ],
      "source": [
        "df.Mode_of_Shipment.value_counts()"
      ]
    },
    {
      "cell_type": "code",
      "execution_count": 17,
      "metadata": {
        "colab": {
          "base_uri": "https://localhost:8080/",
          "height": 559
        },
        "id": "dVG78cHFFcuv",
        "outputId": "008dc273-d570-4635-a592-b725342f49c0"
      },
      "outputs": [
        {
          "output_type": "execute_result",
          "data": {
            "text/plain": [
              "<Axes: xlabel='Mode_of_Shipment', ylabel='count'>"
            ]
          },
          "metadata": {},
          "execution_count": 17
        },
        {
          "output_type": "display_data",
          "data": {
            "text/plain": [
              "<Figure size 600x600 with 1 Axes>"
            ],
            "image/png": "[encoded data removed]"
          },
          "metadata": {}
        }
      ],
      "source": [
        "plt.figure(figsize=(6,6))\n",
        "sns.countplot(data=df,x='Mode_of_Shipment')"
      ]
    },
    {
      "cell_type": "code",
      "execution_count": 18,
      "metadata": {
        "colab": {
          "base_uri": "https://localhost:8080/"
        },
        "id": "KyPogyJgFHX0",
        "outputId": "7be18d4e-85dc-423a-b81b-22317b039bae"
      },
      "outputs": [
        {
          "output_type": "execute_result",
          "data": {
            "text/plain": [
              "low       5297\n",
              "medium    4754\n",
              "high       948\n",
              "Name: Product_importance, dtype: int64"
            ]
          },
          "metadata": {},
          "execution_count": 18
        }
      ],
      "source": [
        "df.Product_importance.value_counts()"
      ]
    },
    {
      "cell_type": "code",
      "execution_count": 19,
      "metadata": {
        "colab": {
          "base_uri": "https://localhost:8080/",
          "height": 482
        },
        "id": "M12DKnVJDuHF",
        "outputId": "5a7d3b39-bcb9-4699-866e-529a8c8d8ce8"
      },
      "outputs": [
        {
          "output_type": "execute_result",
          "data": {
            "text/plain": [
              "<Axes: xlabel='Product_importance', ylabel='count'>"
            ]
          },
          "metadata": {},
          "execution_count": 19
        },
        {
          "output_type": "display_data",
          "data": {
            "text/plain": [
              "<Figure size 500x500 with 1 Axes>"
            ],
            "image/png": "[encoded data removed]"
          },
          "metadata": {}
        }
      ],
      "source": [
        "plt.figure(figsize=(5,5))\n",
        "sns.countplot(data=df,x='Product_importance')"
      ]
    },
    {
      "cell_type": "markdown",
      "metadata": {
        "id": "UNvxHIEPjAmX"
      },
      "source": [
        "evaluating the min, maximum and mean value of numercal variable i.e  Customer_care_calls,Customer_rating,Prior_purchases and plotting it in graph\n"
      ]
    },
    {
      "cell_type": "code",
      "execution_count": 20,
      "metadata": {
        "colab": {
          "base_uri": "https://localhost:8080/"
        },
        "id": "uHmmHxWOGj-D",
        "outputId": "3aacf78c-8d0b-436a-a563-af96945f52e2"
      },
      "outputs": [
        {
          "output_type": "stream",
          "name": "stdout",
          "text": [
            "Minimum Customer_care_calls :  2\n",
            "Maximum Customer_care_calls :  7\n",
            "Average Customer_care_calls :  4.054459496317847\n",
            "---------------------------------------------------------\n",
            "Minimum Customer_rating :  1\n",
            "Maximum Customer_rating :  5\n",
            "Average Customer_rating :  2.9905445949631786\n",
            "---------------------------------------------------------\n",
            "Minimum Prior_purchases :  2\n",
            "Maximum Prior_purchases :  10\n",
            "Average Prior_purchases :  3.5675970542776616\n",
            "---------------------------------------------------------\n"
          ]
        }
      ],
      "source": [
        "c_list = ['Customer_care_calls', 'Customer_rating', 'Prior_purchases']\n",
        "\n",
        "for i in c_list :\n",
        "    min_value = df[i].min()\n",
        "    max_value = df[i].max()\n",
        "    mean_value = df[i].mean()\n",
        "\n",
        "    print('Minimum ' + i + ' : ',min_value)\n",
        "    print('Maximum ' + i + ' : ',max_value)\n",
        "    print('Average ' + i + ' : ',mean_value)\n",
        "    print(\"---------------------------------------------------------\")"
      ]
    },
    {
      "cell_type": "code",
      "execution_count": 21,
      "metadata": {
        "colab": {
          "base_uri": "https://localhost:8080/",
          "height": 1000
        },
        "id": "IvEEhl83G13v",
        "outputId": "f16344ab-15ff-4cd0-f0e9-e908de9bda73"
      },
      "outputs": [
        {
          "output_type": "display_data",
          "data": {
            "text/plain": [
              "<Figure size 640x480 with 1 Axes>"
            ],
            "image/png": "[encoded data removed]"
          },
          "metadata": {}
        },
        {
          "output_type": "display_data",
          "data": {
            "text/plain": [
              "<Figure size 640x480 with 1 Axes>"
            ],
            "image/png": "[encoded data removed]"
          },
          "metadata": {}
        },
        {
          "output_type": "display_data",
          "data": {
            "text/plain": [
              "<Figure size 640x480 with 1 Axes>"
            ],
            "image/png": "[encoded data removed]"
          },
          "metadata": {}
        }
      ],
      "source": [
        "for x in c_list:\n",
        "\n",
        "    sns.countplot(data=df, x=x)\n",
        "\n",
        "    plt.show()"
      ]
    },
    {
      "cell_type": "markdown",
      "metadata": {
        "id": "FSZt5i6pF18t"
      },
      "source": [
        "**Univariate Analysis of Numerical Features**"
      ]
    },
    {
      "cell_type": "code",
      "execution_count": 22,
      "metadata": {
        "id": "CjX8Ip4XF4Zu"
      },
      "outputs": [],
      "source": [
        "num_list = ['Cost_of_the_Product', 'Discount_offered', 'Weight_in_gms']"
      ]
    },
    {
      "cell_type": "code",
      "execution_count": 23,
      "metadata": {
        "colab": {
          "base_uri": "https://localhost:8080/"
        },
        "id": "UFfXkdN4FFk-",
        "outputId": "f514b3ad-6f2a-4dc3-d8d1-f3e0889737eb"
      },
      "outputs": [
        {
          "output_type": "stream",
          "name": "stdout",
          "text": [
            "Minimum Cost_of_the_Product :  96\n",
            "Maximum Cost_of_the_Product :  310\n",
            "Average Cost_of_the_Product :  210.19683607600692\n",
            "---------------------------------------------------------\n",
            "Minimum Discount_offered :  1\n",
            "Maximum Discount_offered :  65\n",
            "Average Discount_offered :  13.37321574688608\n",
            "---------------------------------------------------------\n",
            "Minimum Weight_in_gms :  1001\n",
            "Maximum Weight_in_gms :  7846\n",
            "Average Weight_in_gms :  3634.016728793527\n",
            "---------------------------------------------------------\n"
          ]
        }
      ],
      "source": [
        "\n",
        "\n",
        "for i in num_list :\n",
        "    min_value = df[i].min()\n",
        "    max_value = df[i].max()\n",
        "    mean_value = df[i].mean()\n",
        "\n",
        "    print('Minimum ' + i + ' : ',min_value)\n",
        "    print('Maximum ' + i + ' : ',max_value)\n",
        "    print('Average ' + i + ' : ',mean_value)\n",
        "    print(\"---------------------------------------------------------\")"
      ]
    },
    {
      "cell_type": "code",
      "execution_count": 24,
      "metadata": {
        "colab": {
          "base_uri": "https://localhost:8080/",
          "height": 733
        },
        "id": "oYC_3oAqCXP_",
        "outputId": "be13235c-a2cc-4a93-a450-a6bc345438e1"
      },
      "outputs": [
        {
          "output_type": "stream",
          "name": "stderr",
          "text": [
            "<ipython-input-24-bc7adb888d31>:2: UserWarning: \n",
            "\n",
            "`distplot` is a deprecated function and will be removed in seaborn v0.14.0.\n",
            "\n",
            "Please adapt your code to use either `displot` (a figure-level function with\n",
            "similar flexibility) or `histplot` (an axes-level function for histograms).\n",
            "\n",
            "For a guide to updating your code to use the new functions, please see\n",
            "https://gist.github.com/mwaskom/de44147ed2974457ad6372750bbe5751\n",
            "\n",
            "  sns.distplot(df['Discount_offered'],bins=100,color='r')\n"
          ]
        },
        {
          "output_type": "display_data",
          "data": {
            "text/plain": [
              "<Figure size 600x600 with 1 Axes>"
            ],
            "image/png": "[encoded data removed]"
          },
          "metadata": {}
        }
      ],
      "source": [
        "plt.figure(figsize=(6,6))\n",
        "sns.distplot(df['Discount_offered'],bins=100,color='r')\n",
        "plt.show()"
      ]
    },
    {
      "cell_type": "markdown",
      "metadata": {
        "id": "wZE6g8eCJAdX"
      },
      "source": [
        "the distributin of the discount_offered is right skewed which shows that more discount rates lies in 0 to 10"
      ]
    },
    {
      "cell_type": "code",
      "execution_count": 25,
      "metadata": {
        "colab": {
          "base_uri": "https://localhost:8080/",
          "height": 733
        },
        "id": "ssNxS6gkJEW4",
        "outputId": "8e853ea5-b577-4ca2-fd96-1b4036f3d8fd"
      },
      "outputs": [
        {
          "output_type": "stream",
          "name": "stderr",
          "text": [
            "<ipython-input-25-94899556d36a>:2: UserWarning: \n",
            "\n",
            "`distplot` is a deprecated function and will be removed in seaborn v0.14.0.\n",
            "\n",
            "Please adapt your code to use either `displot` (a figure-level function with\n",
            "similar flexibility) or `histplot` (an axes-level function for histograms).\n",
            "\n",
            "For a guide to updating your code to use the new functions, please see\n",
            "https://gist.github.com/mwaskom/de44147ed2974457ad6372750bbe5751\n",
            "\n",
            "  sns.distplot(df['Cost_of_the_Product'],bins=100,color='r')\n"
          ]
        },
        {
          "output_type": "display_data",
          "data": {
            "text/plain": [
              "<Figure size 600x600 with 1 Axes>"
            ],
            "image/png": "[encoded data removed]"
          },
          "metadata": {}
        }
      ],
      "source": [
        "plt.figure(figsize=(6,6))\n",
        "sns.distplot(df['Cost_of_the_Product'],bins=100,color='r')\n",
        "plt.show()"
      ]
    },
    {
      "cell_type": "markdown",
      "metadata": {
        "id": "ZsQWBgqXjAmb"
      },
      "source": [
        "cost of product is normally distributed"
      ]
    },
    {
      "cell_type": "code",
      "execution_count": 26,
      "metadata": {
        "colab": {
          "base_uri": "https://localhost:8080/",
          "height": 733
        },
        "id": "-S5EKnqCJKds",
        "outputId": "8d0b454b-b8d1-4528-d043-316bfdca6107"
      },
      "outputs": [
        {
          "output_type": "stream",
          "name": "stderr",
          "text": [
            "<ipython-input-26-6118f26d92b0>:2: UserWarning: \n",
            "\n",
            "`distplot` is a deprecated function and will be removed in seaborn v0.14.0.\n",
            "\n",
            "Please adapt your code to use either `displot` (a figure-level function with\n",
            "similar flexibility) or `histplot` (an axes-level function for histograms).\n",
            "\n",
            "For a guide to updating your code to use the new functions, please see\n",
            "https://gist.github.com/mwaskom/de44147ed2974457ad6372750bbe5751\n",
            "\n",
            "  sns.distplot(df['Weight_in_gms'],bins=100,color='r')\n"
          ]
        },
        {
          "output_type": "display_data",
          "data": {
            "text/plain": [
              "<Figure size 600x600 with 1 Axes>"
            ],
            "image/png": "[encoded data removed]"
          },
          "metadata": {}
        }
      ],
      "source": [
        "plt.figure(figsize=(6,6))\n",
        "sns.distplot(df['Weight_in_gms'],bins=100,color='r')\n",
        "plt.show()"
      ]
    },
    {
      "cell_type": "markdown",
      "metadata": {
        "id": "lToCFec5jAmb"
      },
      "source": [
        "there is huge distribution of weight, which mean majority of products are either heavyweight or light weight"
      ]
    },
    {
      "cell_type": "markdown",
      "metadata": {
        "id": "W6zkIpHiJe0y"
      },
      "source": [
        "Bivariate analysis"
      ]
    },
    {
      "cell_type": "code",
      "execution_count": 27,
      "metadata": {
        "colab": {
          "base_uri": "https://localhost:8080/",
          "height": 1000
        },
        "id": "kWugz5-FJhWK",
        "outputId": "88849249-e242-41ea-9201-d9b55a8a20dc"
      },
      "outputs": [
        {
          "output_type": "display_data",
          "data": {
            "text/plain": [
              "<Figure size 500x500 with 1 Axes>"
            ],
            "image/png": "[encoded data removed]"
          },
          "metadata": {}
        },
        {
          "output_type": "display_data",
          "data": {
            "text/plain": [
              "<Figure size 500x500 with 1 Axes>"
            ],
            "image/png": "[encoded data removed]"
          },
          "metadata": {}
        },
        {
          "output_type": "display_data",
          "data": {
            "text/plain": [
              "<Figure size 500x500 with 1 Axes>"
            ],
            "image/png": "[encoded data removed]"
          },
          "metadata": {}
        },
        {
          "output_type": "display_data",
          "data": {
            "text/plain": [
              "<Figure size 500x500 with 1 Axes>"
            ],
            "image/png": "[encoded data removed]"
          },
          "metadata": {}
        },
        {
          "output_type": "display_data",
          "data": {
            "text/plain": [
              "<Figure size 500x500 with 1 Axes>"
            ],
            "image/png": "[encoded data removed]"
          },
          "metadata": {}
        },
        {
          "output_type": "display_data",
          "data": {
            "text/plain": [
              "<Figure size 500x500 with 1 Axes>"
            ],
            "image/png": "[encoded data removed]"
          },
          "metadata": {}
        }
      ],
      "source": [
        "colors_mix = [\"#17869E\", '#264D58', '#179E66', '#D35151', '#E9DAB4', '#E9B4B4', '#D3B651', '#6351D3']\n",
        "features = [\"Warehouse_block\",\"Mode_of_Shipment\",\"Customer_rating\",\"Product_importance\",\"Customer_care_calls\",\"Prior_purchases\"]\n",
        "\n",
        "for f in features:\n",
        "    fig, ax = plt.subplots(figsize=(5, 5))\n",
        "    sns.countplot(x=f,data=df,hue=\"Target\",edgecolor=colors_mix[0])\n",
        "    ax.legend([\"Delivered on time\",\"Not delivered on time\"],loc='upper center', bbox_to_anchor=(0.5, -0.2), ncol=2, borderpad=1, frameon=True, fontsize=10)\n",
        "    plt.ylabel(\"Count\",fontsize=12, fontweight='light', color=colors_mix[0])\n",
        "    plt.xlabel(f\"{f}\",fontsize=12, fontweight='light', color=colors_mix[0])\n",
        "    plt.title(\"{} - Delivered on time\".format(f), fontsize=18, fontweight='bold', color=colors_mix[0])\n"
      ]
    },
    {
      "cell_type": "markdown",
      "metadata": {
        "id": "8I70J6DvNXyK"
      },
      "source": [
        "**Outlier Detection**"
      ]
    },
    {
      "cell_type": "code",
      "execution_count": 28,
      "metadata": {
        "colab": {
          "base_uri": "https://localhost:8080/",
          "height": 1000
        },
        "id": "NPZl0sMpNaWn",
        "outputId": "a0bc0f17-2421-4f82-e0e9-4554546dbd1b"
      },
      "outputs": [
        {
          "output_type": "stream",
          "name": "stderr",
          "text": [
            "/usr/local/lib/python3.10/dist-packages/seaborn/axisgrid.py:712: UserWarning: Using the boxplot function without specifying `order` is likely to produce an incorrect plot.\n",
            "  warnings.warn(warning)\n"
          ]
        },
        {
          "output_type": "display_data",
          "data": {
            "text/plain": [
              "<Figure size 300x300 with 1 Axes>"
            ],
            "image/png": "[encoded data removed]"
          },
          "metadata": {}
        },
        {
          "output_type": "stream",
          "name": "stderr",
          "text": [
            "/usr/local/lib/python3.10/dist-packages/seaborn/axisgrid.py:712: UserWarning: Using the boxplot function without specifying `order` is likely to produce an incorrect plot.\n",
            "  warnings.warn(warning)\n"
          ]
        },
        {
          "output_type": "display_data",
          "data": {
            "text/plain": [
              "<Figure size 300x300 with 1 Axes>"
            ],
            "image/png": "[encoded data removed]"
          },
          "metadata": {}
        },
        {
          "output_type": "stream",
          "name": "stderr",
          "text": [
            "/usr/local/lib/python3.10/dist-packages/seaborn/axisgrid.py:712: UserWarning: Using the boxplot function without specifying `order` is likely to produce an incorrect plot.\n",
            "  warnings.warn(warning)\n"
          ]
        },
        {
          "output_type": "display_data",
          "data": {
            "text/plain": [
              "<Figure size 300x300 with 1 Axes>"
            ],
            "image/png": "[encoded data removed]"
          },
          "metadata": {}
        }
      ],
      "source": [
        "outlier_feat = [\"Cost_of_the_Product\",\"Discount_offered\",\"Weight_in_gms\"]\n",
        "for j in outlier_feat:\n",
        "    of = sns.FacetGrid(df)\n",
        "    of.map(sns.boxplot, j,palette=\"deep\")\n",
        "    plt.show()"
      ]
    },
    {
      "cell_type": "markdown",
      "metadata": {
        "id": "nYd_2A3QjAmc"
      },
      "source": [
        "It seems like we have a lot of outliers for discount offered but we might have some outliers for other features as well. therefore we find z score to drop outliers"
      ]
    },
    {
      "cell_type": "markdown",
      "metadata": {
        "id": "dR_Z3ixHQX3B"
      },
      "source": []
    },
    {
      "cell_type": "code",
      "execution_count": 29,
      "metadata": {
        "id": "v7Yga_AkQYU5"
      },
      "outputs": [],
      "source": [
        "from scipy.stats import zscore\n",
        "\n",
        "z = np.abs(zscore(df[outlier_feat]))\n",
        "df_new = df[(z<3).all(axis=1)]"
      ]
    },
    {
      "cell_type": "code",
      "execution_count": 30,
      "metadata": {
        "colab": {
          "base_uri": "https://localhost:8080/"
        },
        "id": "3qTYZKHYRFoV",
        "outputId": "e187aa86-f762-46be-87b9-4fe5d5c7571f"
      },
      "outputs": [
        {
          "output_type": "execute_result",
          "data": {
            "text/plain": [
              "(10818, 10)"
            ]
          },
          "metadata": {},
          "execution_count": 30
        }
      ],
      "source": [
        "df_new.shape\n"
      ]
    },
    {
      "cell_type": "markdown",
      "metadata": {
        "id": "WNKR0OnDLWgM"
      },
      "source": [
        "**Data Preprocessing and Feature Engineering**"
      ]
    },
    {
      "cell_type": "code",
      "execution_count": 31,
      "metadata": {
        "colab": {
          "base_uri": "https://localhost:8080/",
          "height": 270
        },
        "id": "wB5aVft0Lcgw",
        "outputId": "b6ec07e9-a167-4bd9-c684-cce74984e514"
      },
      "outputs": [
        {
          "output_type": "execute_result",
          "data": {
            "text/plain": [
              "  Warehouse_block Mode_of_Shipment  Customer_care_calls  Customer_rating  \\\n",
              "0               D           Flight                    4                2   \n",
              "1               F           Flight                    4                5   \n",
              "2               A           Flight                    2                2   \n",
              "3               B           Flight                    3                3   \n",
              "4               C           Flight                    2                2   \n",
              "\n",
              "   Cost_of_the_Product  Prior_purchases Product_importance  Discount_offered  \\\n",
              "0                  177                3                low                44   \n",
              "1                  216                2                low                59   \n",
              "2                  183                4                low                48   \n",
              "3                  176                4             medium                10   \n",
              "4                  184                3             medium                46   \n",
              "\n",
              "   Weight_in_gms  Target  \n",
              "0           1233       1  \n",
              "1           3088       1  \n",
              "2           3374       1  \n",
              "3           1177       1  \n",
              "4           2484       1  "
            ],
            "text/html": [
              "\n",
              "  <div id=\"df-bad0e582-3950-49de-baf2-73880ab41697\">\n",
              "    <div class=\"colab-df-container\">\n",
              "      <div>\n",
              "<style scoped>\n",
              "    .dataframe tbody tr th:only-of-type {\n",
              "        vertical-align: middle;\n",
              "    }\n",
              "\n",
              "    .dataframe tbody tr th {\n",
              "        vertical-align: top;\n",
              "    }\n",
              "\n",
              "    .dataframe thead th {\n",
              "        text-align: right;\n",
              "    }\n",
              "</style>\n",
              "<table border=\"1\" class=\"dataframe\">\n",
              "  <thead>\n",
              "    <tr style=\"text-align: right;\">\n",
              "      <th></th>\n",
              "      <th>Warehouse_block</th>\n",
              "      <th>Mode_of_Shipment</th>\n",
              "      <th>Customer_care_calls</th>\n",
              "      <th>Customer_rating</th>\n",
              "      <th>Cost_of_the_Product</th>\n",
              "      <th>Prior_purchases</th>\n",
              "      <th>Product_importance</th>\n",
              "      <th>Discount_offered</th>\n",
              "      <th>Weight_in_gms</th>\n",
              "      <th>Target</th>\n",
              "    </tr>\n",
              "  </thead>\n",
              "  <tbody>\n",
              "    <tr>\n",
              "      <th>0</th>\n",
              "      <td>D</td>\n",
              "      <td>Flight</td>\n",
              "      <td>4</td>\n",
              "      <td>2</td>\n",
              "      <td>177</td>\n",
              "      <td>3</td>\n",
              "      <td>low</td>\n",
              "      <td>44</td>\n",
              "      <td>1233</td>\n",
              "      <td>1</td>\n",
              "    </tr>\n",
              "    <tr>\n",
              "      <th>1</th>\n",
              "      <td>F</td>\n",
              "      <td>Flight</td>\n",
              "      <td>4</td>\n",
              "      <td>5</td>\n",
              "      <td>216</td>\n",
              "      <td>2</td>\n",
              "      <td>low</td>\n",
              "      <td>59</td>\n",
              "      <td>3088</td>\n",
              "      <td>1</td>\n",
              "    </tr>\n",
              "    <tr>\n",
              "      <th>2</th>\n",
              "      <td>A</td>\n",
              "      <td>Flight</td>\n",
              "      <td>2</td>\n",
              "      <td>2</td>\n",
              "      <td>183</td>\n",
              "      <td>4</td>\n",
              "      <td>low</td>\n",
              "      <td>48</td>\n",
              "      <td>3374</td>\n",
              "      <td>1</td>\n",
              "    </tr>\n",
              "    <tr>\n",
              "      <th>3</th>\n",
              "      <td>B</td>\n",
              "      <td>Flight</td>\n",
              "      <td>3</td>\n",
              "      <td>3</td>\n",
              "      <td>176</td>\n",
              "      <td>4</td>\n",
              "      <td>medium</td>\n",
              "      <td>10</td>\n",
              "      <td>1177</td>\n",
              "      <td>1</td>\n",
              "    </tr>\n",
              "    <tr>\n",
              "      <th>4</th>\n",
              "      <td>C</td>\n",
              "      <td>Flight</td>\n",
              "      <td>2</td>\n",
              "      <td>2</td>\n",
              "      <td>184</td>\n",
              "      <td>3</td>\n",
              "      <td>medium</td>\n",
              "      <td>46</td>\n",
              "      <td>2484</td>\n",
              "      <td>1</td>\n",
              "    </tr>\n",
              "  </tbody>\n",
              "</table>\n",
              "</div>\n",
              "      <button class=\"colab-df-convert\" onclick=\"convertToInteractive('df-bad0e582-3950-49de-baf2-73880ab41697')\"\n",
              "              title=\"Convert this dataframe to an interactive table.\"\n",
              "              style=\"display:none;\">\n",
              "        \n",
              "  <svg xmlns=\"http://www.w3.org/2000/svg\" height=\"24px\"viewBox=\"0 0 24 24\"\n",
              "       width=\"24px\">\n",
              "    <path d=\"M0 0h24v24H0V0z\" fill=\"none\"/>\n",
              "    <path d=\"M18.56 5.44l.94 2.06.94-2.06 2.06-.94-2.06-.94-.94-2.06-.94 2.06-2.06.94zm-11 1L8.5 8.5l.94-2.06 2.06-.94-2.06-.94L8.5 2.5l-.94 2.06-2.06.94zm10 10l.94 2.06.94-2.06 2.06-.94-2.06-.94-.94-2.06-.94 2.06-2.06.94z\"/><path d=\"M17.41 7.96l-1.37-1.37c-.4-.4-.92-.59-1.43-.59-.52 0-1.04.2-1.43.59L10.3 9.45l-7.72 7.72c-.78.78-.78 2.05 0 2.83L4 21.41c.39.39.9.59 1.41.59.51 0 1.02-.2 1.41-.59l7.78-7.78 2.81-2.81c.8-.78.8-2.07 0-2.86zM5.41 20L4 18.59l7.72-7.72 1.47 1.35L5.41 20z\"/>\n",
              "  </svg>\n",
              "      </button>\n",
              "      \n",
              "  <style>\n",
              "    .colab-df-container {\n",
              "      display:flex;\n",
              "      flex-wrap:wrap;\n",
              "      gap: 12px;\n",
              "    }\n",
              "\n",
              "    .colab-df-convert {\n",
              "      background-color: #E8F0FE;\n",
              "      border: none;\n",
              "      border-radius: 50%;\n",
              "      cursor: pointer;\n",
              "      display: none;\n",
              "      fill: #1967D2;\n",
              "      height: 32px;\n",
              "      padding: 0 0 0 0;\n",
              "      width: 32px;\n",
              "    }\n",
              "\n",
              "    .colab-df-convert:hover {\n",
              "      background-color: #E2EBFA;\n",
              "      box-shadow: 0px 1px 2px rgba(60, 64, 67, 0.3), 0px 1px 3px 1px rgba(60, 64, 67, 0.15);\n",
              "      fill: #174EA6;\n",
              "    }\n",
              "\n",
              "    [theme=dark] .colab-df-convert {\n",
              "      background-color: #3B4455;\n",
              "      fill: #D2E3FC;\n",
              "    }\n",
              "\n",
              "    [theme=dark] .colab-df-convert:hover {\n",
              "      background-color: #434B5C;\n",
              "      box-shadow: 0px 1px 3px 1px rgba(0, 0, 0, 0.15);\n",
              "      filter: drop-shadow(0px 1px 2px rgba(0, 0, 0, 0.3));\n",
              "      fill: #FFFFFF;\n",
              "    }\n",
              "  </style>\n",
              "\n",
              "      <script>\n",
              "        const buttonEl =\n",
              "          document.querySelector('#df-bad0e582-3950-49de-baf2-73880ab41697 button.colab-df-convert');\n",
              "        buttonEl.style.display =\n",
              "          google.colab.kernel.accessAllowed ? 'block' : 'none';\n",
              "\n",
              "        async function convertToInteractive(key) {\n",
              "          const element = document.querySelector('#df-bad0e582-3950-49de-baf2-73880ab41697');\n",
              "          const dataTable =\n",
              "            await google.colab.kernel.invokeFunction('convertToInteractive',\n",
              "                                                     [key], {});\n",
              "          if (!dataTable) return;\n",
              "\n",
              "          const docLinkHtml = 'Like what you see? Visit the ' +\n",
              "            '<a target=\"_blank\" href=https://colab.research.google.com/notebooks/data_table.ipynb>data table notebook</a>'\n",
              "            + ' to learn more about interactive tables.';\n",
              "          element.innerHTML = '';\n",
              "          dataTable['output_type'] = 'display_data';\n",
              "          await google.colab.output.renderOutput(dataTable, element);\n",
              "          const docLink = document.createElement('div');\n",
              "          docLink.innerHTML = docLinkHtml;\n",
              "          element.appendChild(docLink);\n",
              "        }\n",
              "      </script>\n",
              "    </div>\n",
              "  </div>\n",
              "  "
            ]
          },
          "metadata": {},
          "execution_count": 31
        }
      ],
      "source": [
        "df_new.head()"
      ]
    },
    {
      "cell_type": "code",
      "execution_count": 32,
      "metadata": {
        "id": "Z-lrr9-_LySt"
      },
      "outputs": [],
      "source": [
        "#label encoding of the three categorical variables\n",
        "cat_list = ['Warehouse_block','Mode_of_Shipment','Product_importance']\n",
        "num_list = ['Discount_offered','Weight_in_gms','Cost_of_the_Product']"
      ]
    },
    {
      "cell_type": "code",
      "execution_count": 33,
      "metadata": {
        "colab": {
          "base_uri": "https://localhost:8080/"
        },
        "id": "jjOxGzCHL8oR",
        "outputId": "ddd0227f-aa03-4a29-a8c9-d2d00c9c99de"
      },
      "outputs": [
        {
          "output_type": "stream",
          "name": "stderr",
          "text": [
            "<ipython-input-33-177ee220ecae>:4: SettingWithCopyWarning: \n",
            "A value is trying to be set on a copy of a slice from a DataFrame.\n",
            "Try using .loc[row_indexer,col_indexer] = value instead\n",
            "\n",
            "See the caveats in the documentation: https://pandas.pydata.org/pandas-docs/stable/user_guide/indexing.html#returning-a-view-versus-a-copy\n",
            "  df_new[i] = le.fit_transform(df_new[i])\n",
            "<ipython-input-33-177ee220ecae>:4: SettingWithCopyWarning: \n",
            "A value is trying to be set on a copy of a slice from a DataFrame.\n",
            "Try using .loc[row_indexer,col_indexer] = value instead\n",
            "\n",
            "See the caveats in the documentation: https://pandas.pydata.org/pandas-docs/stable/user_guide/indexing.html#returning-a-view-versus-a-copy\n",
            "  df_new[i] = le.fit_transform(df_new[i])\n",
            "<ipython-input-33-177ee220ecae>:4: SettingWithCopyWarning: \n",
            "A value is trying to be set on a copy of a slice from a DataFrame.\n",
            "Try using .loc[row_indexer,col_indexer] = value instead\n",
            "\n",
            "See the caveats in the documentation: https://pandas.pydata.org/pandas-docs/stable/user_guide/indexing.html#returning-a-view-versus-a-copy\n",
            "  df_new[i] = le.fit_transform(df_new[i])\n"
          ]
        }
      ],
      "source": [
        "from sklearn.preprocessing import LabelEncoder\n",
        "le = LabelEncoder()\n",
        "for i in cat_list:\n",
        "    df_new[i] = le.fit_transform(df_new[i])\n"
      ]
    },
    {
      "cell_type": "code",
      "execution_count": 34,
      "metadata": {
        "colab": {
          "base_uri": "https://localhost:8080/",
          "height": 270
        },
        "id": "XzSrWXR7MAUc",
        "outputId": "feebd0c4-f082-4641-b129-f6f622f05634"
      },
      "outputs": [
        {
          "output_type": "execute_result",
          "data": {
            "text/plain": [
              "   Warehouse_block  Mode_of_Shipment  Customer_care_calls  Customer_rating  \\\n",
              "0                3                 0                    4                2   \n",
              "1                4                 0                    4                5   \n",
              "2                0                 0                    2                2   \n",
              "3                1                 0                    3                3   \n",
              "4                2                 0                    2                2   \n",
              "\n",
              "   Cost_of_the_Product  Prior_purchases  Product_importance  Discount_offered  \\\n",
              "0                  177                3                   1                44   \n",
              "1                  216                2                   1                59   \n",
              "2                  183                4                   1                48   \n",
              "3                  176                4                   2                10   \n",
              "4                  184                3                   2                46   \n",
              "\n",
              "   Weight_in_gms  Target  \n",
              "0           1233       1  \n",
              "1           3088       1  \n",
              "2           3374       1  \n",
              "3           1177       1  \n",
              "4           2484       1  "
            ],
            "text/html": [
              "\n",
              "  <div id=\"df-708fd406-a4e0-4ab1-a162-73916718e739\">\n",
              "    <div class=\"colab-df-container\">\n",
              "      <div>\n",
              "<style scoped>\n",
              "    .dataframe tbody tr th:only-of-type {\n",
              "        vertical-align: middle;\n",
              "    }\n",
              "\n",
              "    .dataframe tbody tr th {\n",
              "        vertical-align: top;\n",
              "    }\n",
              "\n",
              "    .dataframe thead th {\n",
              "        text-align: right;\n",
              "    }\n",
              "</style>\n",
              "<table border=\"1\" class=\"dataframe\">\n",
              "  <thead>\n",
              "    <tr style=\"text-align: right;\">\n",
              "      <th></th>\n",
              "      <th>Warehouse_block</th>\n",
              "      <th>Mode_of_Shipment</th>\n",
              "      <th>Customer_care_calls</th>\n",
              "      <th>Customer_rating</th>\n",
              "      <th>Cost_of_the_Product</th>\n",
              "      <th>Prior_purchases</th>\n",
              "      <th>Product_importance</th>\n",
              "      <th>Discount_offered</th>\n",
              "      <th>Weight_in_gms</th>\n",
              "      <th>Target</th>\n",
              "    </tr>\n",
              "  </thead>\n",
              "  <tbody>\n",
              "    <tr>\n",
              "      <th>0</th>\n",
              "      <td>3</td>\n",
              "      <td>0</td>\n",
              "      <td>4</td>\n",
              "      <td>2</td>\n",
              "      <td>177</td>\n",
              "      <td>3</td>\n",
              "      <td>1</td>\n",
              "      <td>44</td>\n",
              "      <td>1233</td>\n",
              "      <td>1</td>\n",
              "    </tr>\n",
              "    <tr>\n",
              "      <th>1</th>\n",
              "      <td>4</td>\n",
              "      <td>0</td>\n",
              "      <td>4</td>\n",
              "      <td>5</td>\n",
              "      <td>216</td>\n",
              "      <td>2</td>\n",
              "      <td>1</td>\n",
              "      <td>59</td>\n",
              "      <td>3088</td>\n",
              "      <td>1</td>\n",
              "    </tr>\n",
              "    <tr>\n",
              "      <th>2</th>\n",
              "      <td>0</td>\n",
              "      <td>0</td>\n",
              "      <td>2</td>\n",
              "      <td>2</td>\n",
              "      <td>183</td>\n",
              "      <td>4</td>\n",
              "      <td>1</td>\n",
              "      <td>48</td>\n",
              "      <td>3374</td>\n",
              "      <td>1</td>\n",
              "    </tr>\n",
              "    <tr>\n",
              "      <th>3</th>\n",
              "      <td>1</td>\n",
              "      <td>0</td>\n",
              "      <td>3</td>\n",
              "      <td>3</td>\n",
              "      <td>176</td>\n",
              "      <td>4</td>\n",
              "      <td>2</td>\n",
              "      <td>10</td>\n",
              "      <td>1177</td>\n",
              "      <td>1</td>\n",
              "    </tr>\n",
              "    <tr>\n",
              "      <th>4</th>\n",
              "      <td>2</td>\n",
              "      <td>0</td>\n",
              "      <td>2</td>\n",
              "      <td>2</td>\n",
              "      <td>184</td>\n",
              "      <td>3</td>\n",
              "      <td>2</td>\n",
              "      <td>46</td>\n",
              "      <td>2484</td>\n",
              "      <td>1</td>\n",
              "    </tr>\n",
              "  </tbody>\n",
              "</table>\n",
              "</div>\n",
              "      <button class=\"colab-df-convert\" onclick=\"convertToInteractive('df-708fd406-a4e0-4ab1-a162-73916718e739')\"\n",
              "              title=\"Convert this dataframe to an interactive table.\"\n",
              "              style=\"display:none;\">\n",
              "        \n",
              "  <svg xmlns=\"http://www.w3.org/2000/svg\" height=\"24px\"viewBox=\"0 0 24 24\"\n",
              "       width=\"24px\">\n",
              "    <path d=\"M0 0h24v24H0V0z\" fill=\"none\"/>\n",
              "    <path d=\"M18.56 5.44l.94 2.06.94-2.06 2.06-.94-2.06-.94-.94-2.06-.94 2.06-2.06.94zm-11 1L8.5 8.5l.94-2.06 2.06-.94-2.06-.94L8.5 2.5l-.94 2.06-2.06.94zm10 10l.94 2.06.94-2.06 2.06-.94-2.06-.94-.94-2.06-.94 2.06-2.06.94z\"/><path d=\"M17.41 7.96l-1.37-1.37c-.4-.4-.92-.59-1.43-.59-.52 0-1.04.2-1.43.59L10.3 9.45l-7.72 7.72c-.78.78-.78 2.05 0 2.83L4 21.41c.39.39.9.59 1.41.59.51 0 1.02-.2 1.41-.59l7.78-7.78 2.81-2.81c.8-.78.8-2.07 0-2.86zM5.41 20L4 18.59l7.72-7.72 1.47 1.35L5.41 20z\"/>\n",
              "  </svg>\n",
              "      </button>\n",
              "      \n",
              "  <style>\n",
              "    .colab-df-container {\n",
              "      display:flex;\n",
              "      flex-wrap:wrap;\n",
              "      gap: 12px;\n",
              "    }\n",
              "\n",
              "    .colab-df-convert {\n",
              "      background-color: #E8F0FE;\n",
              "      border: none;\n",
              "      border-radius: 50%;\n",
              "      cursor: pointer;\n",
              "      display: none;\n",
              "      fill: #1967D2;\n",
              "      height: 32px;\n",
              "      padding: 0 0 0 0;\n",
              "      width: 32px;\n",
              "    }\n",
              "\n",
              "    .colab-df-convert:hover {\n",
              "      background-color: #E2EBFA;\n",
              "      box-shadow: 0px 1px 2px rgba(60, 64, 67, 0.3), 0px 1px 3px 1px rgba(60, 64, 67, 0.15);\n",
              "      fill: #174EA6;\n",
              "    }\n",
              "\n",
              "    [theme=dark] .colab-df-convert {\n",
              "      background-color: #3B4455;\n",
              "      fill: #D2E3FC;\n",
              "    }\n",
              "\n",
              "    [theme=dark] .colab-df-convert:hover {\n",
              "      background-color: #434B5C;\n",
              "      box-shadow: 0px 1px 3px 1px rgba(0, 0, 0, 0.15);\n",
              "      filter: drop-shadow(0px 1px 2px rgba(0, 0, 0, 0.3));\n",
              "      fill: #FFFFFF;\n",
              "    }\n",
              "  </style>\n",
              "\n",
              "      <script>\n",
              "        const buttonEl =\n",
              "          document.querySelector('#df-708fd406-a4e0-4ab1-a162-73916718e739 button.colab-df-convert');\n",
              "        buttonEl.style.display =\n",
              "          google.colab.kernel.accessAllowed ? 'block' : 'none';\n",
              "\n",
              "        async function convertToInteractive(key) {\n",
              "          const element = document.querySelector('#df-708fd406-a4e0-4ab1-a162-73916718e739');\n",
              "          const dataTable =\n",
              "            await google.colab.kernel.invokeFunction('convertToInteractive',\n",
              "                                                     [key], {});\n",
              "          if (!dataTable) return;\n",
              "\n",
              "          const docLinkHtml = 'Like what you see? Visit the ' +\n",
              "            '<a target=\"_blank\" href=https://colab.research.google.com/notebooks/data_table.ipynb>data table notebook</a>'\n",
              "            + ' to learn more about interactive tables.';\n",
              "          element.innerHTML = '';\n",
              "          dataTable['output_type'] = 'display_data';\n",
              "          await google.colab.output.renderOutput(dataTable, element);\n",
              "          const docLink = document.createElement('div');\n",
              "          docLink.innerHTML = docLinkHtml;\n",
              "          element.appendChild(docLink);\n",
              "        }\n",
              "      </script>\n",
              "    </div>\n",
              "  </div>\n",
              "  "
            ]
          },
          "metadata": {},
          "execution_count": 34
        }
      ],
      "source": [
        "df_new.head()"
      ]
    },
    {
      "cell_type": "code",
      "execution_count": 35,
      "metadata": {
        "id": "WrGYwdA-MBW3"
      },
      "outputs": [],
      "source": [
        "#normmalization of the three numerical variables to improve model performance\n",
        "#Step 2: Preprocessing Scaler\n",
        "from sklearn.preprocessing import StandardScaler\n",
        "scaler  = StandardScaler()\n",
        "scaled_numerical = scaler.fit_transform(df_new[num_list])\n",
        "scaled_numerical_df = pd.DataFrame(scaled_numerical, columns=num_list)"
      ]
    },
    {
      "cell_type": "code",
      "execution_count": 36,
      "metadata": {
        "colab": {
          "base_uri": "https://localhost:8080/",
          "height": 206
        },
        "id": "F_ODYevHYTup",
        "outputId": "02c17941-1893-4474-bfef-103f216538a7"
      },
      "outputs": [
        {
          "output_type": "execute_result",
          "data": {
            "text/plain": [
              "   Discount_offered  Weight_in_gms  Cost_of_the_Product\n",
              "0          2.100090      -1.480618            -0.695769\n",
              "1          3.101302      -0.347017             0.115762\n",
              "2          2.367080      -0.172241            -0.570918\n",
              "3         -0.169324      -1.514840            -0.716578\n",
              "4          2.233585      -0.716125            -0.550110"
            ],
            "text/html": [
              "\n",
              "  <div id=\"df-ea7bdd4e-84a3-4988-8979-7b98906ab542\">\n",
              "    <div class=\"colab-df-container\">\n",
              "      <div>\n",
              "<style scoped>\n",
              "    .dataframe tbody tr th:only-of-type {\n",
              "        vertical-align: middle;\n",
              "    }\n",
              "\n",
              "    .dataframe tbody tr th {\n",
              "        vertical-align: top;\n",
              "    }\n",
              "\n",
              "    .dataframe thead th {\n",
              "        text-align: right;\n",
              "    }\n",
              "</style>\n",
              "<table border=\"1\" class=\"dataframe\">\n",
              "  <thead>\n",
              "    <tr style=\"text-align: right;\">\n",
              "      <th></th>\n",
              "      <th>Discount_offered</th>\n",
              "      <th>Weight_in_gms</th>\n",
              "      <th>Cost_of_the_Product</th>\n",
              "    </tr>\n",
              "  </thead>\n",
              "  <tbody>\n",
              "    <tr>\n",
              "      <th>0</th>\n",
              "      <td>2.100090</td>\n",
              "      <td>-1.480618</td>\n",
              "      <td>-0.695769</td>\n",
              "    </tr>\n",
              "    <tr>\n",
              "      <th>1</th>\n",
              "      <td>3.101302</td>\n",
              "      <td>-0.347017</td>\n",
              "      <td>0.115762</td>\n",
              "    </tr>\n",
              "    <tr>\n",
              "      <th>2</th>\n",
              "      <td>2.367080</td>\n",
              "      <td>-0.172241</td>\n",
              "      <td>-0.570918</td>\n",
              "    </tr>\n",
              "    <tr>\n",
              "      <th>3</th>\n",
              "      <td>-0.169324</td>\n",
              "      <td>-1.514840</td>\n",
              "      <td>-0.716578</td>\n",
              "    </tr>\n",
              "    <tr>\n",
              "      <th>4</th>\n",
              "      <td>2.233585</td>\n",
              "      <td>-0.716125</td>\n",
              "      <td>-0.550110</td>\n",
              "    </tr>\n",
              "  </tbody>\n",
              "</table>\n",
              "</div>\n",
              "      <button class=\"colab-df-convert\" onclick=\"convertToInteractive('df-ea7bdd4e-84a3-4988-8979-7b98906ab542')\"\n",
              "              title=\"Convert this dataframe to an interactive table.\"\n",
              "              style=\"display:none;\">\n",
              "        \n",
              "  <svg xmlns=\"http://www.w3.org/2000/svg\" height=\"24px\"viewBox=\"0 0 24 24\"\n",
              "       width=\"24px\">\n",
              "    <path d=\"M0 0h24v24H0V0z\" fill=\"none\"/>\n",
              "    <path d=\"M18.56 5.44l.94 2.06.94-2.06 2.06-.94-2.06-.94-.94-2.06-.94 2.06-2.06.94zm-11 1L8.5 8.5l.94-2.06 2.06-.94-2.06-.94L8.5 2.5l-.94 2.06-2.06.94zm10 10l.94 2.06.94-2.06 2.06-.94-2.06-.94-.94-2.06-.94 2.06-2.06.94z\"/><path d=\"M17.41 7.96l-1.37-1.37c-.4-.4-.92-.59-1.43-.59-.52 0-1.04.2-1.43.59L10.3 9.45l-7.72 7.72c-.78.78-.78 2.05 0 2.83L4 21.41c.39.39.9.59 1.41.59.51 0 1.02-.2 1.41-.59l7.78-7.78 2.81-2.81c.8-.78.8-2.07 0-2.86zM5.41 20L4 18.59l7.72-7.72 1.47 1.35L5.41 20z\"/>\n",
              "  </svg>\n",
              "      </button>\n",
              "      \n",
              "  <style>\n",
              "    .colab-df-container {\n",
              "      display:flex;\n",
              "      flex-wrap:wrap;\n",
              "      gap: 12px;\n",
              "    }\n",
              "\n",
              "    .colab-df-convert {\n",
              "      background-color: #E8F0FE;\n",
              "      border: none;\n",
              "      border-radius: 50%;\n",
              "      cursor: pointer;\n",
              "      display: none;\n",
              "      fill: #1967D2;\n",
              "      height: 32px;\n",
              "      padding: 0 0 0 0;\n",
              "      width: 32px;\n",
              "    }\n",
              "\n",
              "    .colab-df-convert:hover {\n",
              "      background-color: #E2EBFA;\n",
              "      box-shadow: 0px 1px 2px rgba(60, 64, 67, 0.3), 0px 1px 3px 1px rgba(60, 64, 67, 0.15);\n",
              "      fill: #174EA6;\n",
              "    }\n",
              "\n",
              "    [theme=dark] .colab-df-convert {\n",
              "      background-color: #3B4455;\n",
              "      fill: #D2E3FC;\n",
              "    }\n",
              "\n",
              "    [theme=dark] .colab-df-convert:hover {\n",
              "      background-color: #434B5C;\n",
              "      box-shadow: 0px 1px 3px 1px rgba(0, 0, 0, 0.15);\n",
              "      filter: drop-shadow(0px 1px 2px rgba(0, 0, 0, 0.3));\n",
              "      fill: #FFFFFF;\n",
              "    }\n",
              "  </style>\n",
              "\n",
              "      <script>\n",
              "        const buttonEl =\n",
              "          document.querySelector('#df-ea7bdd4e-84a3-4988-8979-7b98906ab542 button.colab-df-convert');\n",
              "        buttonEl.style.display =\n",
              "          google.colab.kernel.accessAllowed ? 'block' : 'none';\n",
              "\n",
              "        async function convertToInteractive(key) {\n",
              "          const element = document.querySelector('#df-ea7bdd4e-84a3-4988-8979-7b98906ab542');\n",
              "          const dataTable =\n",
              "            await google.colab.kernel.invokeFunction('convertToInteractive',\n",
              "                                                     [key], {});\n",
              "          if (!dataTable) return;\n",
              "\n",
              "          const docLinkHtml = 'Like what you see? Visit the ' +\n",
              "            '<a target=\"_blank\" href=https://colab.research.google.com/notebooks/data_table.ipynb>data table notebook</a>'\n",
              "            + ' to learn more about interactive tables.';\n",
              "          element.innerHTML = '';\n",
              "          dataTable['output_type'] = 'display_data';\n",
              "          await google.colab.output.renderOutput(dataTable, element);\n",
              "          const docLink = document.createElement('div');\n",
              "          docLink.innerHTML = docLinkHtml;\n",
              "          element.appendChild(docLink);\n",
              "        }\n",
              "      </script>\n",
              "    </div>\n",
              "  </div>\n",
              "  "
            ]
          },
          "metadata": {},
          "execution_count": 36
        }
      ],
      "source": [
        "scaled_numerical_df.head()"
      ]
    },
    {
      "cell_type": "code",
      "execution_count": 37,
      "metadata": {
        "colab": {
          "base_uri": "https://localhost:8080/",
          "height": 206
        },
        "id": "9q6LoddMYWXM",
        "outputId": "c65c10eb-854b-4936-fd68-9dd41afe56ac",
        "scrolled": true
      },
      "outputs": [
        {
          "output_type": "execute_result",
          "data": {
            "text/plain": [
              "   Warehouse_block  Mode_of_Shipment  Customer_care_calls  Customer_rating  \\\n",
              "0                3                 0                    4                2   \n",
              "1                4                 0                    4                5   \n",
              "2                0                 0                    2                2   \n",
              "3                1                 0                    3                3   \n",
              "4                2                 0                    2                2   \n",
              "\n",
              "   Prior_purchases  Product_importance  Target  \n",
              "0                3                   1       1  \n",
              "1                2                   1       1  \n",
              "2                4                   1       1  \n",
              "3                4                   2       1  \n",
              "4                3                   2       1  "
            ],
            "text/html": [
              "\n",
              "  <div id=\"df-fbb32021-4be2-4847-aa4f-d117290ccb6e\">\n",
              "    <div class=\"colab-df-container\">\n",
              "      <div>\n",
              "<style scoped>\n",
              "    .dataframe tbody tr th:only-of-type {\n",
              "        vertical-align: middle;\n",
              "    }\n",
              "\n",
              "    .dataframe tbody tr th {\n",
              "        vertical-align: top;\n",
              "    }\n",
              "\n",
              "    .dataframe thead th {\n",
              "        text-align: right;\n",
              "    }\n",
              "</style>\n",
              "<table border=\"1\" class=\"dataframe\">\n",
              "  <thead>\n",
              "    <tr style=\"text-align: right;\">\n",
              "      <th></th>\n",
              "      <th>Warehouse_block</th>\n",
              "      <th>Mode_of_Shipment</th>\n",
              "      <th>Customer_care_calls</th>\n",
              "      <th>Customer_rating</th>\n",
              "      <th>Prior_purchases</th>\n",
              "      <th>Product_importance</th>\n",
              "      <th>Target</th>\n",
              "    </tr>\n",
              "  </thead>\n",
              "  <tbody>\n",
              "    <tr>\n",
              "      <th>0</th>\n",
              "      <td>3</td>\n",
              "      <td>0</td>\n",
              "      <td>4</td>\n",
              "      <td>2</td>\n",
              "      <td>3</td>\n",
              "      <td>1</td>\n",
              "      <td>1</td>\n",
              "    </tr>\n",
              "    <tr>\n",
              "      <th>1</th>\n",
              "      <td>4</td>\n",
              "      <td>0</td>\n",
              "      <td>4</td>\n",
              "      <td>5</td>\n",
              "      <td>2</td>\n",
              "      <td>1</td>\n",
              "      <td>1</td>\n",
              "    </tr>\n",
              "    <tr>\n",
              "      <th>2</th>\n",
              "      <td>0</td>\n",
              "      <td>0</td>\n",
              "      <td>2</td>\n",
              "      <td>2</td>\n",
              "      <td>4</td>\n",
              "      <td>1</td>\n",
              "      <td>1</td>\n",
              "    </tr>\n",
              "    <tr>\n",
              "      <th>3</th>\n",
              "      <td>1</td>\n",
              "      <td>0</td>\n",
              "      <td>3</td>\n",
              "      <td>3</td>\n",
              "      <td>4</td>\n",
              "      <td>2</td>\n",
              "      <td>1</td>\n",
              "    </tr>\n",
              "    <tr>\n",
              "      <th>4</th>\n",
              "      <td>2</td>\n",
              "      <td>0</td>\n",
              "      <td>2</td>\n",
              "      <td>2</td>\n",
              "      <td>3</td>\n",
              "      <td>2</td>\n",
              "      <td>1</td>\n",
              "    </tr>\n",
              "  </tbody>\n",
              "</table>\n",
              "</div>\n",
              "      <button class=\"colab-df-convert\" onclick=\"convertToInteractive('df-fbb32021-4be2-4847-aa4f-d117290ccb6e')\"\n",
              "              title=\"Convert this dataframe to an interactive table.\"\n",
              "              style=\"display:none;\">\n",
              "        \n",
              "  <svg xmlns=\"http://www.w3.org/2000/svg\" height=\"24px\"viewBox=\"0 0 24 24\"\n",
              "       width=\"24px\">\n",
              "    <path d=\"M0 0h24v24H0V0z\" fill=\"none\"/>\n",
              "    <path d=\"M18.56 5.44l.94 2.06.94-2.06 2.06-.94-2.06-.94-.94-2.06-.94 2.06-2.06.94zm-11 1L8.5 8.5l.94-2.06 2.06-.94-2.06-.94L8.5 2.5l-.94 2.06-2.06.94zm10 10l.94 2.06.94-2.06 2.06-.94-2.06-.94-.94-2.06-.94 2.06-2.06.94z\"/><path d=\"M17.41 7.96l-1.37-1.37c-.4-.4-.92-.59-1.43-.59-.52 0-1.04.2-1.43.59L10.3 9.45l-7.72 7.72c-.78.78-.78 2.05 0 2.83L4 21.41c.39.39.9.59 1.41.59.51 0 1.02-.2 1.41-.59l7.78-7.78 2.81-2.81c.8-.78.8-2.07 0-2.86zM5.41 20L4 18.59l7.72-7.72 1.47 1.35L5.41 20z\"/>\n",
              "  </svg>\n",
              "      </button>\n",
              "      \n",
              "  <style>\n",
              "    .colab-df-container {\n",
              "      display:flex;\n",
              "      flex-wrap:wrap;\n",
              "      gap: 12px;\n",
              "    }\n",
              "\n",
              "    .colab-df-convert {\n",
              "      background-color: #E8F0FE;\n",
              "      border: none;\n",
              "      border-radius: 50%;\n",
              "      cursor: pointer;\n",
              "      display: none;\n",
              "      fill: #1967D2;\n",
              "      height: 32px;\n",
              "      padding: 0 0 0 0;\n",
              "      width: 32px;\n",
              "    }\n",
              "\n",
              "    .colab-df-convert:hover {\n",
              "      background-color: #E2EBFA;\n",
              "      box-shadow: 0px 1px 2px rgba(60, 64, 67, 0.3), 0px 1px 3px 1px rgba(60, 64, 67, 0.15);\n",
              "      fill: #174EA6;\n",
              "    }\n",
              "\n",
              "    [theme=dark] .colab-df-convert {\n",
              "      background-color: #3B4455;\n",
              "      fill: #D2E3FC;\n",
              "    }\n",
              "\n",
              "    [theme=dark] .colab-df-convert:hover {\n",
              "      background-color: #434B5C;\n",
              "      box-shadow: 0px 1px 3px 1px rgba(0, 0, 0, 0.15);\n",
              "      filter: drop-shadow(0px 1px 2px rgba(0, 0, 0, 0.3));\n",
              "      fill: #FFFFFF;\n",
              "    }\n",
              "  </style>\n",
              "\n",
              "      <script>\n",
              "        const buttonEl =\n",
              "          document.querySelector('#df-fbb32021-4be2-4847-aa4f-d117290ccb6e button.colab-df-convert');\n",
              "        buttonEl.style.display =\n",
              "          google.colab.kernel.accessAllowed ? 'block' : 'none';\n",
              "\n",
              "        async function convertToInteractive(key) {\n",
              "          const element = document.querySelector('#df-fbb32021-4be2-4847-aa4f-d117290ccb6e');\n",
              "          const dataTable =\n",
              "            await google.colab.kernel.invokeFunction('convertToInteractive',\n",
              "                                                     [key], {});\n",
              "          if (!dataTable) return;\n",
              "\n",
              "          const docLinkHtml = 'Like what you see? Visit the ' +\n",
              "            '<a target=\"_blank\" href=https://colab.research.google.com/notebooks/data_table.ipynb>data table notebook</a>'\n",
              "            + ' to learn more about interactive tables.';\n",
              "          element.innerHTML = '';\n",
              "          dataTable['output_type'] = 'display_data';\n",
              "          await google.colab.output.renderOutput(dataTable, element);\n",
              "          const docLink = document.createElement('div');\n",
              "          docLink.innerHTML = docLinkHtml;\n",
              "          element.appendChild(docLink);\n",
              "        }\n",
              "      </script>\n",
              "    </div>\n",
              "  </div>\n",
              "  "
            ]
          },
          "metadata": {},
          "execution_count": 37
        }
      ],
      "source": [
        "unscaled_df = df_new.drop(num_list,axis=1)\n",
        "unscaled_df.head()"
      ]
    },
    {
      "cell_type": "code",
      "execution_count": 38,
      "metadata": {
        "colab": {
          "base_uri": "https://localhost:8080/",
          "height": 270
        },
        "id": "E61ihqjAYjtn",
        "outputId": "296f78b1-cd33-4118-967f-0699e348f997"
      },
      "outputs": [
        {
          "output_type": "execute_result",
          "data": {
            "text/plain": [
              "   Warehouse_block  Mode_of_Shipment  Customer_care_calls  Customer_rating  \\\n",
              "0              3.0               0.0                  4.0              2.0   \n",
              "1              4.0               0.0                  4.0              5.0   \n",
              "2              0.0               0.0                  2.0              2.0   \n",
              "3              1.0               0.0                  3.0              3.0   \n",
              "4              2.0               0.0                  2.0              2.0   \n",
              "\n",
              "   Prior_purchases  Product_importance  Target  Discount_offered  \\\n",
              "0              3.0                 1.0     1.0          2.100090   \n",
              "1              2.0                 1.0     1.0          3.101302   \n",
              "2              4.0                 1.0     1.0          2.367080   \n",
              "3              4.0                 2.0     1.0         -0.169324   \n",
              "4              3.0                 2.0     1.0          2.233585   \n",
              "\n",
              "   Weight_in_gms  Cost_of_the_Product  \n",
              "0      -1.480618            -0.695769  \n",
              "1      -0.347017             0.115762  \n",
              "2      -0.172241            -0.570918  \n",
              "3      -1.514840            -0.716578  \n",
              "4      -0.716125            -0.550110  "
            ],
            "text/html": [
              "\n",
              "  <div id=\"df-da380d39-1eb3-4a3a-8522-381681925849\">\n",
              "    <div class=\"colab-df-container\">\n",
              "      <div>\n",
              "<style scoped>\n",
              "    .dataframe tbody tr th:only-of-type {\n",
              "        vertical-align: middle;\n",
              "    }\n",
              "\n",
              "    .dataframe tbody tr th {\n",
              "        vertical-align: top;\n",
              "    }\n",
              "\n",
              "    .dataframe thead th {\n",
              "        text-align: right;\n",
              "    }\n",
              "</style>\n",
              "<table border=\"1\" class=\"dataframe\">\n",
              "  <thead>\n",
              "    <tr style=\"text-align: right;\">\n",
              "      <th></th>\n",
              "      <th>Warehouse_block</th>\n",
              "      <th>Mode_of_Shipment</th>\n",
              "      <th>Customer_care_calls</th>\n",
              "      <th>Customer_rating</th>\n",
              "      <th>Prior_purchases</th>\n",
              "      <th>Product_importance</th>\n",
              "      <th>Target</th>\n",
              "      <th>Discount_offered</th>\n",
              "      <th>Weight_in_gms</th>\n",
              "      <th>Cost_of_the_Product</th>\n",
              "    </tr>\n",
              "  </thead>\n",
              "  <tbody>\n",
              "    <tr>\n",
              "      <th>0</th>\n",
              "      <td>3.0</td>\n",
              "      <td>0.0</td>\n",
              "      <td>4.0</td>\n",
              "      <td>2.0</td>\n",
              "      <td>3.0</td>\n",
              "      <td>1.0</td>\n",
              "      <td>1.0</td>\n",
              "      <td>2.100090</td>\n",
              "      <td>-1.480618</td>\n",
              "      <td>-0.695769</td>\n",
              "    </tr>\n",
              "    <tr>\n",
              "      <th>1</th>\n",
              "      <td>4.0</td>\n",
              "      <td>0.0</td>\n",
              "      <td>4.0</td>\n",
              "      <td>5.0</td>\n",
              "      <td>2.0</td>\n",
              "      <td>1.0</td>\n",
              "      <td>1.0</td>\n",
              "      <td>3.101302</td>\n",
              "      <td>-0.347017</td>\n",
              "      <td>0.115762</td>\n",
              "    </tr>\n",
              "    <tr>\n",
              "      <th>2</th>\n",
              "      <td>0.0</td>\n",
              "      <td>0.0</td>\n",
              "      <td>2.0</td>\n",
              "      <td>2.0</td>\n",
              "      <td>4.0</td>\n",
              "      <td>1.0</td>\n",
              "      <td>1.0</td>\n",
              "      <td>2.367080</td>\n",
              "      <td>-0.172241</td>\n",
              "      <td>-0.570918</td>\n",
              "    </tr>\n",
              "    <tr>\n",
              "      <th>3</th>\n",
              "      <td>1.0</td>\n",
              "      <td>0.0</td>\n",
              "      <td>3.0</td>\n",
              "      <td>3.0</td>\n",
              "      <td>4.0</td>\n",
              "      <td>2.0</td>\n",
              "      <td>1.0</td>\n",
              "      <td>-0.169324</td>\n",
              "      <td>-1.514840</td>\n",
              "      <td>-0.716578</td>\n",
              "    </tr>\n",
              "    <tr>\n",
              "      <th>4</th>\n",
              "      <td>2.0</td>\n",
              "      <td>0.0</td>\n",
              "      <td>2.0</td>\n",
              "      <td>2.0</td>\n",
              "      <td>3.0</td>\n",
              "      <td>2.0</td>\n",
              "      <td>1.0</td>\n",
              "      <td>2.233585</td>\n",
              "      <td>-0.716125</td>\n",
              "      <td>-0.550110</td>\n",
              "    </tr>\n",
              "  </tbody>\n",
              "</table>\n",
              "</div>\n",
              "      <button class=\"colab-df-convert\" onclick=\"convertToInteractive('df-da380d39-1eb3-4a3a-8522-381681925849')\"\n",
              "              title=\"Convert this dataframe to an interactive table.\"\n",
              "              style=\"display:none;\">\n",
              "        \n",
              "  <svg xmlns=\"http://www.w3.org/2000/svg\" height=\"24px\"viewBox=\"0 0 24 24\"\n",
              "       width=\"24px\">\n",
              "    <path d=\"M0 0h24v24H0V0z\" fill=\"none\"/>\n",
              "    <path d=\"M18.56 5.44l.94 2.06.94-2.06 2.06-.94-2.06-.94-.94-2.06-.94 2.06-2.06.94zm-11 1L8.5 8.5l.94-2.06 2.06-.94-2.06-.94L8.5 2.5l-.94 2.06-2.06.94zm10 10l.94 2.06.94-2.06 2.06-.94-2.06-.94-.94-2.06-.94 2.06-2.06.94z\"/><path d=\"M17.41 7.96l-1.37-1.37c-.4-.4-.92-.59-1.43-.59-.52 0-1.04.2-1.43.59L10.3 9.45l-7.72 7.72c-.78.78-.78 2.05 0 2.83L4 21.41c.39.39.9.59 1.41.59.51 0 1.02-.2 1.41-.59l7.78-7.78 2.81-2.81c.8-.78.8-2.07 0-2.86zM5.41 20L4 18.59l7.72-7.72 1.47 1.35L5.41 20z\"/>\n",
              "  </svg>\n",
              "      </button>\n",
              "      \n",
              "  <style>\n",
              "    .colab-df-container {\n",
              "      display:flex;\n",
              "      flex-wrap:wrap;\n",
              "      gap: 12px;\n",
              "    }\n",
              "\n",
              "    .colab-df-convert {\n",
              "      background-color: #E8F0FE;\n",
              "      border: none;\n",
              "      border-radius: 50%;\n",
              "      cursor: pointer;\n",
              "      display: none;\n",
              "      fill: #1967D2;\n",
              "      height: 32px;\n",
              "      padding: 0 0 0 0;\n",
              "      width: 32px;\n",
              "    }\n",
              "\n",
              "    .colab-df-convert:hover {\n",
              "      background-color: #E2EBFA;\n",
              "      box-shadow: 0px 1px 2px rgba(60, 64, 67, 0.3), 0px 1px 3px 1px rgba(60, 64, 67, 0.15);\n",
              "      fill: #174EA6;\n",
              "    }\n",
              "\n",
              "    [theme=dark] .colab-df-convert {\n",
              "      background-color: #3B4455;\n",
              "      fill: #D2E3FC;\n",
              "    }\n",
              "\n",
              "    [theme=dark] .colab-df-convert:hover {\n",
              "      background-color: #434B5C;\n",
              "      box-shadow: 0px 1px 3px 1px rgba(0, 0, 0, 0.15);\n",
              "      filter: drop-shadow(0px 1px 2px rgba(0, 0, 0, 0.3));\n",
              "      fill: #FFFFFF;\n",
              "    }\n",
              "  </style>\n",
              "\n",
              "      <script>\n",
              "        const buttonEl =\n",
              "          document.querySelector('#df-da380d39-1eb3-4a3a-8522-381681925849 button.colab-df-convert');\n",
              "        buttonEl.style.display =\n",
              "          google.colab.kernel.accessAllowed ? 'block' : 'none';\n",
              "\n",
              "        async function convertToInteractive(key) {\n",
              "          const element = document.querySelector('#df-da380d39-1eb3-4a3a-8522-381681925849');\n",
              "          const dataTable =\n",
              "            await google.colab.kernel.invokeFunction('convertToInteractive',\n",
              "                                                     [key], {});\n",
              "          if (!dataTable) return;\n",
              "\n",
              "          const docLinkHtml = 'Like what you see? Visit the ' +\n",
              "            '<a target=\"_blank\" href=https://colab.research.google.com/notebooks/data_table.ipynb>data table notebook</a>'\n",
              "            + ' to learn more about interactive tables.';\n",
              "          element.innerHTML = '';\n",
              "          dataTable['output_type'] = 'display_data';\n",
              "          await google.colab.output.renderOutput(dataTable, element);\n",
              "          const docLink = document.createElement('div');\n",
              "          docLink.innerHTML = docLinkHtml;\n",
              "          element.appendChild(docLink);\n",
              "        }\n",
              "      </script>\n",
              "    </div>\n",
              "  </div>\n",
              "  "
            ]
          },
          "metadata": {},
          "execution_count": 38
        }
      ],
      "source": [
        "final_df = pd.concat([unscaled_df,scaled_numerical_df],axis=1)\n",
        "final_df.head()\n"
      ]
    },
    {
      "cell_type": "code",
      "execution_count": 39,
      "metadata": {
        "id": "IJZVAetnZALk",
        "colab": {
          "base_uri": "https://localhost:8080/"
        },
        "outputId": "4989f2b1-2723-4d60-94c9-4dda217fc49e"
      },
      "outputs": [
        {
          "output_type": "execute_result",
          "data": {
            "text/plain": [
              "Warehouse_block        181\n",
              "Mode_of_Shipment       181\n",
              "Customer_care_calls    181\n",
              "Customer_rating        181\n",
              "Prior_purchases        181\n",
              "Product_importance     181\n",
              "Target                 181\n",
              "Discount_offered       181\n",
              "Weight_in_gms          181\n",
              "Cost_of_the_Product    181\n",
              "dtype: int64"
            ]
          },
          "metadata": {},
          "execution_count": 39
        }
      ],
      "source": [
        "final_df.isna().sum()"
      ]
    },
    {
      "cell_type": "code",
      "source": [
        "final_df = final_df.dropna()\n",
        "final_df.head()"
      ],
      "metadata": {
        "colab": {
          "base_uri": "https://localhost:8080/",
          "height": 270
        },
        "id": "Hg8C-X3XjkBJ",
        "outputId": "d3b65da6-4587-4a71-b088-a07113822018"
      },
      "execution_count": 40,
      "outputs": [
        {
          "output_type": "execute_result",
          "data": {
            "text/plain": [
              "   Warehouse_block  Mode_of_Shipment  Customer_care_calls  Customer_rating  \\\n",
              "0              3.0               0.0                  4.0              2.0   \n",
              "1              4.0               0.0                  4.0              5.0   \n",
              "2              0.0               0.0                  2.0              2.0   \n",
              "3              1.0               0.0                  3.0              3.0   \n",
              "4              2.0               0.0                  2.0              2.0   \n",
              "\n",
              "   Prior_purchases  Product_importance  Target  Discount_offered  \\\n",
              "0              3.0                 1.0     1.0          2.100090   \n",
              "1              2.0                 1.0     1.0          3.101302   \n",
              "2              4.0                 1.0     1.0          2.367080   \n",
              "3              4.0                 2.0     1.0         -0.169324   \n",
              "4              3.0                 2.0     1.0          2.233585   \n",
              "\n",
              "   Weight_in_gms  Cost_of_the_Product  \n",
              "0      -1.480618            -0.695769  \n",
              "1      -0.347017             0.115762  \n",
              "2      -0.172241            -0.570918  \n",
              "3      -1.514840            -0.716578  \n",
              "4      -0.716125            -0.550110  "
            ],
            "text/html": [
              "\n",
              "  <div id=\"df-19eb95e2-156f-461e-87dc-49b8d7529e78\">\n",
              "    <div class=\"colab-df-container\">\n",
              "      <div>\n",
              "<style scoped>\n",
              "    .dataframe tbody tr th:only-of-type {\n",
              "        vertical-align: middle;\n",
              "    }\n",
              "\n",
              "    .dataframe tbody tr th {\n",
              "        vertical-align: top;\n",
              "    }\n",
              "\n",
              "    .dataframe thead th {\n",
              "        text-align: right;\n",
              "    }\n",
              "</style>\n",
              "<table border=\"1\" class=\"dataframe\">\n",
              "  <thead>\n",
              "    <tr style=\"text-align: right;\">\n",
              "      <th></th>\n",
              "      <th>Warehouse_block</th>\n",
              "      <th>Mode_of_Shipment</th>\n",
              "      <th>Customer_care_calls</th>\n",
              "      <th>Customer_rating</th>\n",
              "      <th>Prior_purchases</th>\n",
              "      <th>Product_importance</th>\n",
              "      <th>Target</th>\n",
              "      <th>Discount_offered</th>\n",
              "      <th>Weight_in_gms</th>\n",
              "      <th>Cost_of_the_Product</th>\n",
              "    </tr>\n",
              "  </thead>\n",
              "  <tbody>\n",
              "    <tr>\n",
              "      <th>0</th>\n",
              "      <td>3.0</td>\n",
              "      <td>0.0</td>\n",
              "      <td>4.0</td>\n",
              "      <td>2.0</td>\n",
              "      <td>3.0</td>\n",
              "      <td>1.0</td>\n",
              "      <td>1.0</td>\n",
              "      <td>2.100090</td>\n",
              "      <td>-1.480618</td>\n",
              "      <td>-0.695769</td>\n",
              "    </tr>\n",
              "    <tr>\n",
              "      <th>1</th>\n",
              "      <td>4.0</td>\n",
              "      <td>0.0</td>\n",
              "      <td>4.0</td>\n",
              "      <td>5.0</td>\n",
              "      <td>2.0</td>\n",
              "      <td>1.0</td>\n",
              "      <td>1.0</td>\n",
              "      <td>3.101302</td>\n",
              "      <td>-0.347017</td>\n",
              "      <td>0.115762</td>\n",
              "    </tr>\n",
              "    <tr>\n",
              "      <th>2</th>\n",
              "      <td>0.0</td>\n",
              "      <td>0.0</td>\n",
              "      <td>2.0</td>\n",
              "      <td>2.0</td>\n",
              "      <td>4.0</td>\n",
              "      <td>1.0</td>\n",
              "      <td>1.0</td>\n",
              "      <td>2.367080</td>\n",
              "      <td>-0.172241</td>\n",
              "      <td>-0.570918</td>\n",
              "    </tr>\n",
              "    <tr>\n",
              "      <th>3</th>\n",
              "      <td>1.0</td>\n",
              "      <td>0.0</td>\n",
              "      <td>3.0</td>\n",
              "      <td>3.0</td>\n",
              "      <td>4.0</td>\n",
              "      <td>2.0</td>\n",
              "      <td>1.0</td>\n",
              "      <td>-0.169324</td>\n",
              "      <td>-1.514840</td>\n",
              "      <td>-0.716578</td>\n",
              "    </tr>\n",
              "    <tr>\n",
              "      <th>4</th>\n",
              "      <td>2.0</td>\n",
              "      <td>0.0</td>\n",
              "      <td>2.0</td>\n",
              "      <td>2.0</td>\n",
              "      <td>3.0</td>\n",
              "      <td>2.0</td>\n",
              "      <td>1.0</td>\n",
              "      <td>2.233585</td>\n",
              "      <td>-0.716125</td>\n",
              "      <td>-0.550110</td>\n",
              "    </tr>\n",
              "  </tbody>\n",
              "</table>\n",
              "</div>\n",
              "      <button class=\"colab-df-convert\" onclick=\"convertToInteractive('df-19eb95e2-156f-461e-87dc-49b8d7529e78')\"\n",
              "              title=\"Convert this dataframe to an interactive table.\"\n",
              "              style=\"display:none;\">\n",
              "        \n",
              "  <svg xmlns=\"http://www.w3.org/2000/svg\" height=\"24px\"viewBox=\"0 0 24 24\"\n",
              "       width=\"24px\">\n",
              "    <path d=\"M0 0h24v24H0V0z\" fill=\"none\"/>\n",
              "    <path d=\"M18.56 5.44l.94 2.06.94-2.06 2.06-.94-2.06-.94-.94-2.06-.94 2.06-2.06.94zm-11 1L8.5 8.5l.94-2.06 2.06-.94-2.06-.94L8.5 2.5l-.94 2.06-2.06.94zm10 10l.94 2.06.94-2.06 2.06-.94-2.06-.94-.94-2.06-.94 2.06-2.06.94z\"/><path d=\"M17.41 7.96l-1.37-1.37c-.4-.4-.92-.59-1.43-.59-.52 0-1.04.2-1.43.59L10.3 9.45l-7.72 7.72c-.78.78-.78 2.05 0 2.83L4 21.41c.39.39.9.59 1.41.59.51 0 1.02-.2 1.41-.59l7.78-7.78 2.81-2.81c.8-.78.8-2.07 0-2.86zM5.41 20L4 18.59l7.72-7.72 1.47 1.35L5.41 20z\"/>\n",
              "  </svg>\n",
              "      </button>\n",
              "      \n",
              "  <style>\n",
              "    .colab-df-container {\n",
              "      display:flex;\n",
              "      flex-wrap:wrap;\n",
              "      gap: 12px;\n",
              "    }\n",
              "\n",
              "    .colab-df-convert {\n",
              "      background-color: #E8F0FE;\n",
              "      border: none;\n",
              "      border-radius: 50%;\n",
              "      cursor: pointer;\n",
              "      display: none;\n",
              "      fill: #1967D2;\n",
              "      height: 32px;\n",
              "      padding: 0 0 0 0;\n",
              "      width: 32px;\n",
              "    }\n",
              "\n",
              "    .colab-df-convert:hover {\n",
              "      background-color: #E2EBFA;\n",
              "      box-shadow: 0px 1px 2px rgba(60, 64, 67, 0.3), 0px 1px 3px 1px rgba(60, 64, 67, 0.15);\n",
              "      fill: #174EA6;\n",
              "    }\n",
              "\n",
              "    [theme=dark] .colab-df-convert {\n",
              "      background-color: #3B4455;\n",
              "      fill: #D2E3FC;\n",
              "    }\n",
              "\n",
              "    [theme=dark] .colab-df-convert:hover {\n",
              "      background-color: #434B5C;\n",
              "      box-shadow: 0px 1px 3px 1px rgba(0, 0, 0, 0.15);\n",
              "      filter: drop-shadow(0px 1px 2px rgba(0, 0, 0, 0.3));\n",
              "      fill: #FFFFFF;\n",
              "    }\n",
              "  </style>\n",
              "\n",
              "      <script>\n",
              "        const buttonEl =\n",
              "          document.querySelector('#df-19eb95e2-156f-461e-87dc-49b8d7529e78 button.colab-df-convert');\n",
              "        buttonEl.style.display =\n",
              "          google.colab.kernel.accessAllowed ? 'block' : 'none';\n",
              "\n",
              "        async function convertToInteractive(key) {\n",
              "          const element = document.querySelector('#df-19eb95e2-156f-461e-87dc-49b8d7529e78');\n",
              "          const dataTable =\n",
              "            await google.colab.kernel.invokeFunction('convertToInteractive',\n",
              "                                                     [key], {});\n",
              "          if (!dataTable) return;\n",
              "\n",
              "          const docLinkHtml = 'Like what you see? Visit the ' +\n",
              "            '<a target=\"_blank\" href=https://colab.research.google.com/notebooks/data_table.ipynb>data table notebook</a>'\n",
              "            + ' to learn more about interactive tables.';\n",
              "          element.innerHTML = '';\n",
              "          dataTable['output_type'] = 'display_data';\n",
              "          await google.colab.output.renderOutput(dataTable, element);\n",
              "          const docLink = document.createElement('div');\n",
              "          docLink.innerHTML = docLinkHtml;\n",
              "          element.appendChild(docLink);\n",
              "        }\n",
              "      </script>\n",
              "    </div>\n",
              "  </div>\n",
              "  "
            ]
          },
          "metadata": {},
          "execution_count": 40
        }
      ]
    },
    {
      "cell_type": "code",
      "source": [
        "final_df.isna().sum()"
      ],
      "metadata": {
        "colab": {
          "base_uri": "https://localhost:8080/"
        },
        "id": "KG7_New6jmUQ",
        "outputId": "d75ec7a9-70d5-4dbe-8c68-b993a0a458e0"
      },
      "execution_count": 41,
      "outputs": [
        {
          "output_type": "execute_result",
          "data": {
            "text/plain": [
              "Warehouse_block        0\n",
              "Mode_of_Shipment       0\n",
              "Customer_care_calls    0\n",
              "Customer_rating        0\n",
              "Prior_purchases        0\n",
              "Product_importance     0\n",
              "Target                 0\n",
              "Discount_offered       0\n",
              "Weight_in_gms          0\n",
              "Cost_of_the_Product    0\n",
              "dtype: int64"
            ]
          },
          "metadata": {},
          "execution_count": 41
        }
      ]
    },
    {
      "cell_type": "code",
      "source": [
        "#X AND y\n",
        "X = final_df.drop(['Target'],axis=1)\n",
        "y = final_df['Target']"
      ],
      "metadata": {
        "id": "7Yb-ROhejoKK"
      },
      "execution_count": 42,
      "outputs": []
    },
    {
      "cell_type": "code",
      "source": [
        "X.isna().sum()"
      ],
      "metadata": {
        "colab": {
          "base_uri": "https://localhost:8080/"
        },
        "id": "YnWNxHSljrEp",
        "outputId": "825dc8e2-9268-4b4f-88ec-dcf033574b20"
      },
      "execution_count": 43,
      "outputs": [
        {
          "output_type": "execute_result",
          "data": {
            "text/plain": [
              "Warehouse_block        0\n",
              "Mode_of_Shipment       0\n",
              "Customer_care_calls    0\n",
              "Customer_rating        0\n",
              "Prior_purchases        0\n",
              "Product_importance     0\n",
              "Discount_offered       0\n",
              "Weight_in_gms          0\n",
              "Cost_of_the_Product    0\n",
              "dtype: int64"
            ]
          },
          "metadata": {},
          "execution_count": 43
        }
      ]
    },
    {
      "cell_type": "code",
      "source": [
        "# In the first step we will split the data in training and remaining dataset\n",
        "from sklearn.model_selection import train_test_split\n",
        "X_train, X_rem, y_train, y_rem = train_test_split(X,y, train_size=0.8)\n",
        "\n",
        "\n",
        "# Now since we want the valid and test size to be equal (10% each of overall data).\n",
        "\n",
        "# we have to define valid_size=0.5 (that is 50% of remaining data)\n",
        "\n",
        "test_size = 0.5\n",
        "\n",
        "X_val, X_test, y_val, y_test = train_test_split(X_rem,y_rem, test_size=0.5)"
      ],
      "metadata": {
        "id": "IWtYpfLxjrHI"
      },
      "execution_count": 44,
      "outputs": []
    },
    {
      "cell_type": "code",
      "source": [
        "## Logistic Regression\n",
        "from sklearn.linear_model import LogisticRegression\n",
        "classifier = LogisticRegression()\n",
        "classifier.fit(X_train, y_train)\n",
        "\n",
        "# Predicting Test Set\n",
        "y_pred = classifier.predict(X_test)\n",
        "from sklearn.metrics import confusion_matrix, accuracy_score, f1_score, precision_score, recall_score\n",
        "acc = accuracy_score(y_test, y_pred)\n",
        "prec = precision_score(y_test, y_pred)\n",
        "rec = recall_score(y_test, y_pred)\n",
        "f1 = f1_score(y_test, y_pred)\n",
        "\n",
        "results = pd.DataFrame([['Logistic Regression (Lasso)', acc, prec, rec, f1]],\n",
        "               columns = ['Model', 'Accuracy', 'Precision', 'Recall', 'F1 Score'])"
      ],
      "metadata": {
        "id": "WIBeWheZjrJp"
      },
      "execution_count": 45,
      "outputs": []
    },
    {
      "cell_type": "code",
      "source": [
        "results"
      ],
      "metadata": {
        "colab": {
          "base_uri": "https://localhost:8080/",
          "height": 81
        },
        "id": "SYMwmymujrMg",
        "outputId": "021ca372-5a30-46a7-806d-c1095b51aaf2"
      },
      "execution_count": 46,
      "outputs": [
        {
          "output_type": "execute_result",
          "data": {
            "text/plain": [
              "                         Model  Accuracy  Precision    Recall  F1 Score\n",
              "0  Logistic Regression (Lasso)  0.632519   0.698171  0.703533  0.700842"
            ],
            "text/html": [
              "\n",
              "  <div id=\"df-97667c39-c8c3-4bb8-89af-9d46602dd0d2\">\n",
              "    <div class=\"colab-df-container\">\n",
              "      <div>\n",
              "<style scoped>\n",
              "    .dataframe tbody tr th:only-of-type {\n",
              "        vertical-align: middle;\n",
              "    }\n",
              "\n",
              "    .dataframe tbody tr th {\n",
              "        vertical-align: top;\n",
              "    }\n",
              "\n",
              "    .dataframe thead th {\n",
              "        text-align: right;\n",
              "    }\n",
              "</style>\n",
              "<table border=\"1\" class=\"dataframe\">\n",
              "  <thead>\n",
              "    <tr style=\"text-align: right;\">\n",
              "      <th></th>\n",
              "      <th>Model</th>\n",
              "      <th>Accuracy</th>\n",
              "      <th>Precision</th>\n",
              "      <th>Recall</th>\n",
              "      <th>F1 Score</th>\n",
              "    </tr>\n",
              "  </thead>\n",
              "  <tbody>\n",
              "    <tr>\n",
              "      <th>0</th>\n",
              "      <td>Logistic Regression (Lasso)</td>\n",
              "      <td>0.632519</td>\n",
              "      <td>0.698171</td>\n",
              "      <td>0.703533</td>\n",
              "      <td>0.700842</td>\n",
              "    </tr>\n",
              "  </tbody>\n",
              "</table>\n",
              "</div>\n",
              "      <button class=\"colab-df-convert\" onclick=\"convertToInteractive('df-97667c39-c8c3-4bb8-89af-9d46602dd0d2')\"\n",
              "              title=\"Convert this dataframe to an interactive table.\"\n",
              "              style=\"display:none;\">\n",
              "        \n",
              "  <svg xmlns=\"http://www.w3.org/2000/svg\" height=\"24px\"viewBox=\"0 0 24 24\"\n",
              "       width=\"24px\">\n",
              "    <path d=\"M0 0h24v24H0V0z\" fill=\"none\"/>\n",
              "    <path d=\"M18.56 5.44l.94 2.06.94-2.06 2.06-.94-2.06-.94-.94-2.06-.94 2.06-2.06.94zm-11 1L8.5 8.5l.94-2.06 2.06-.94-2.06-.94L8.5 2.5l-.94 2.06-2.06.94zm10 10l.94 2.06.94-2.06 2.06-.94-2.06-.94-.94-2.06-.94 2.06-2.06.94z\"/><path d=\"M17.41 7.96l-1.37-1.37c-.4-.4-.92-.59-1.43-.59-.52 0-1.04.2-1.43.59L10.3 9.45l-7.72 7.72c-.78.78-.78 2.05 0 2.83L4 21.41c.39.39.9.59 1.41.59.51 0 1.02-.2 1.41-.59l7.78-7.78 2.81-2.81c.8-.78.8-2.07 0-2.86zM5.41 20L4 18.59l7.72-7.72 1.47 1.35L5.41 20z\"/>\n",
              "  </svg>\n",
              "      </button>\n",
              "      \n",
              "  <style>\n",
              "    .colab-df-container {\n",
              "      display:flex;\n",
              "      flex-wrap:wrap;\n",
              "      gap: 12px;\n",
              "    }\n",
              "\n",
              "    .colab-df-convert {\n",
              "      background-color: #E8F0FE;\n",
              "      border: none;\n",
              "      border-radius: 50%;\n",
              "      cursor: pointer;\n",
              "      display: none;\n",
              "      fill: #1967D2;\n",
              "      height: 32px;\n",
              "      padding: 0 0 0 0;\n",
              "      width: 32px;\n",
              "    }\n",
              "\n",
              "    .colab-df-convert:hover {\n",
              "      background-color: #E2EBFA;\n",
              "      box-shadow: 0px 1px 2px rgba(60, 64, 67, 0.3), 0px 1px 3px 1px rgba(60, 64, 67, 0.15);\n",
              "      fill: #174EA6;\n",
              "    }\n",
              "\n",
              "    [theme=dark] .colab-df-convert {\n",
              "      background-color: #3B4455;\n",
              "      fill: #D2E3FC;\n",
              "    }\n",
              "\n",
              "    [theme=dark] .colab-df-convert:hover {\n",
              "      background-color: #434B5C;\n",
              "      box-shadow: 0px 1px 3px 1px rgba(0, 0, 0, 0.15);\n",
              "      filter: drop-shadow(0px 1px 2px rgba(0, 0, 0, 0.3));\n",
              "      fill: #FFFFFF;\n",
              "    }\n",
              "  </style>\n",
              "\n",
              "      <script>\n",
              "        const buttonEl =\n",
              "          document.querySelector('#df-97667c39-c8c3-4bb8-89af-9d46602dd0d2 button.colab-df-convert');\n",
              "        buttonEl.style.display =\n",
              "          google.colab.kernel.accessAllowed ? 'block' : 'none';\n",
              "\n",
              "        async function convertToInteractive(key) {\n",
              "          const element = document.querySelector('#df-97667c39-c8c3-4bb8-89af-9d46602dd0d2');\n",
              "          const dataTable =\n",
              "            await google.colab.kernel.invokeFunction('convertToInteractive',\n",
              "                                                     [key], {});\n",
              "          if (!dataTable) return;\n",
              "\n",
              "          const docLinkHtml = 'Like what you see? Visit the ' +\n",
              "            '<a target=\"_blank\" href=https://colab.research.google.com/notebooks/data_table.ipynb>data table notebook</a>'\n",
              "            + ' to learn more about interactive tables.';\n",
              "          element.innerHTML = '';\n",
              "          dataTable['output_type'] = 'display_data';\n",
              "          await google.colab.output.renderOutput(dataTable, element);\n",
              "          const docLink = document.createElement('div');\n",
              "          docLink.innerHTML = docLinkHtml;\n",
              "          element.appendChild(docLink);\n",
              "        }\n",
              "      </script>\n",
              "    </div>\n",
              "  </div>\n",
              "  "
            ]
          },
          "metadata": {},
          "execution_count": 46
        }
      ]
    },
    {
      "cell_type": "code",
      "source": [
        "#Model Architecure\n",
        "from keras.models import Sequential\n",
        "from keras.layers import Dense\n",
        "#Create the ANN\n",
        "model= Sequential()\n",
        "# Add the input layer and the first hidden layer\n",
        "model.add(Dense(units=64, activation='relu', input_shape=(X.shape[1],)))\n",
        "\n",
        "# Add additional hidden layers\n",
        "model.add(Dense(units=32, activation='relu'))\n",
        "\n",
        "# Add the output layer\n",
        "model.add(Dense(units=1, activation='sigmoid'))\n",
        "\n",
        "# Step 3: Compilation\n",
        "model.compile(optimizer='adam', loss='binary_crossentropy', metrics=['accuracy'])\n",
        "\n",
        "# Step 4: Training\n",
        "history=model.fit(X_train, y_train, batch_size=32, epochs=10, validation_data=(X_val, y_val))\n",
        "\n",
        "# Step 5: Model Evaluation\n",
        "loss, accuracy = model.evaluate(X_test, y_test)\n",
        "print(f\"Test Loss: {loss:.4f}\")\n",
        "print(f\"Test Accuracy: {accuracy:.4f}\")\n",
        "\n",
        "# Step 6: Prediction\n",
        "y_pred = model.predict(X_test)"
      ],
      "metadata": {
        "colab": {
          "base_uri": "https://localhost:8080/"
        },
        "id": "zFbu1t8ujrPm",
        "outputId": "0cf51169-1f99-4c13-c10b-00d6d6a36ad9"
      },
      "execution_count": 47,
      "outputs": [
        {
          "output_type": "stream",
          "name": "stdout",
          "text": [
            "Epoch 1/10\n",
            "266/266 [==============================] - 1s 2ms/step - loss: 0.5907 - accuracy: 0.6149 - val_loss: 0.5613 - val_accuracy: 0.6372\n",
            "Epoch 2/10\n",
            "266/266 [==============================] - 0s 2ms/step - loss: 0.5618 - accuracy: 0.6260 - val_loss: 0.5560 - val_accuracy: 0.6570\n",
            "Epoch 3/10\n",
            "266/266 [==============================] - 0s 1ms/step - loss: 0.5540 - accuracy: 0.6334 - val_loss: 0.5468 - val_accuracy: 0.6523\n",
            "Epoch 4/10\n",
            "266/266 [==============================] - 0s 1ms/step - loss: 0.5510 - accuracy: 0.6333 - val_loss: 0.5463 - val_accuracy: 0.6532\n",
            "Epoch 5/10\n",
            "266/266 [==============================] - 0s 1ms/step - loss: 0.5478 - accuracy: 0.6332 - val_loss: 0.5545 - val_accuracy: 0.6006\n",
            "Epoch 6/10\n",
            "266/266 [==============================] - 0s 1ms/step - loss: 0.5442 - accuracy: 0.6406 - val_loss: 0.5425 - val_accuracy: 0.6532\n",
            "Epoch 7/10\n",
            "266/266 [==============================] - 0s 1ms/step - loss: 0.5438 - accuracy: 0.6398 - val_loss: 0.5411 - val_accuracy: 0.6316\n",
            "Epoch 8/10\n",
            "266/266 [==============================] - 0s 2ms/step - loss: 0.5408 - accuracy: 0.6396 - val_loss: 0.5419 - val_accuracy: 0.6372\n",
            "Epoch 9/10\n",
            "266/266 [==============================] - 0s 1ms/step - loss: 0.5384 - accuracy: 0.6470 - val_loss: 0.5399 - val_accuracy: 0.6353\n",
            "Epoch 10/10\n",
            "266/266 [==============================] - 0s 1ms/step - loss: 0.5379 - accuracy: 0.6468 - val_loss: 0.5385 - val_accuracy: 0.6523\n",
            "34/34 [==============================] - 0s 4ms/step - loss: 0.5182 - accuracy: 0.6523\n",
            "Test Loss: 0.5182\n",
            "Test Accuracy: 0.6523\n",
            "34/34 [==============================] - 0s 945us/step\n"
          ]
        }
      ]
    },
    {
      "cell_type": "markdown",
      "source": [
        "**Comparision of logistic Regression and first artificial neural network:**\n"
      ],
      "metadata": {
        "id": "o90Nh34nkZbo"
      }
    },
    {
      "cell_type": "code",
      "source": [
        "plt.plot(history.history['loss'], label ='loss')\n",
        "plt.plot(history.history['val_loss'], label ='val_loss')\n",
        "plt.xlabel('Epoch')\n",
        "plt.ylabel('loss')\n",
        "plt.ylim([0.5, 1])\n",
        "plt.legend(loc='lower right')"
      ],
      "metadata": {
        "colab": {
          "base_uri": "https://localhost:8080/",
          "height": 472
        },
        "id": "9vHaNMoojzi4",
        "outputId": "827b4d40-fb96-4f5a-b9a3-a3102e27fd3e"
      },
      "execution_count": 48,
      "outputs": [
        {
          "output_type": "execute_result",
          "data": {
            "text/plain": [
              "<matplotlib.legend.Legend at 0x7facb7e93e50>"
            ]
          },
          "metadata": {},
          "execution_count": 48
        },
        {
          "output_type": "display_data",
          "data": {
            "text/plain": [
              "<Figure size 640x480 with 1 Axes>"
            ],
            "image/png": "[encoded data removed]"
          },
          "metadata": {}
        }
      ]
    },
    {
      "cell_type": "code",
      "source": [
        "#Model Architecure\n",
        "from keras.models import Sequential\n",
        "from keras.layers import Dense\n",
        "#Create the ANN\n",
        "model= Sequential()\n",
        "# Add the input layer and the first hidden layer\n",
        "model.add(Dense(units=64, activation='relu', input_shape=(X.shape[1],)))\n",
        "\n",
        "# Add  hidden layers 1\n",
        "model.add(Dense(units=32, activation='relu'))\n",
        "\n",
        "# Add  hidden layers 2\n",
        "model.add(Dense(units=16, activation='relu'))\n",
        "\n",
        "# Add the output layer\n",
        "model.add(Dense(units=1, activation='sigmoid'))\n",
        "\n",
        "# Step 3: Compilation\n",
        "model.compile(optimizer='adam', loss='binary_crossentropy', metrics=['accuracy'])\n",
        "\n",
        "# Step 4: Training\n",
        "history =model.fit(X_train, y_train, batch_size=32, epochs=20, validation_data=(X_val, y_val))\n",
        "\n",
        "# Step 5: Model Evaluation\n",
        "loss, accuracy = model.evaluate(X_test, y_test)\n",
        "print(f\"Test Loss: {loss:.4f}\")\n",
        "print(f\"Test Accuracy: {accuracy:.4f}\")\n",
        "\n",
        "# Step 6: Prediction\n",
        "y_pred = model.predict(X_test)"
      ],
      "metadata": {
        "colab": {
          "base_uri": "https://localhost:8080/"
        },
        "id": "Ubn734Kdj1zZ",
        "outputId": "fe3c2607-198d-49e1-d937-2965e7b9a008"
      },
      "execution_count": 49,
      "outputs": [
        {
          "output_type": "stream",
          "name": "stdout",
          "text": [
            "Epoch 1/20\n",
            "266/266 [==============================] - 2s 2ms/step - loss: 0.5815 - accuracy: 0.6173 - val_loss: 0.5507 - val_accuracy: 0.6372\n",
            "Epoch 2/20\n",
            "266/266 [==============================] - 1s 2ms/step - loss: 0.5529 - accuracy: 0.6366 - val_loss: 0.5488 - val_accuracy: 0.6513\n",
            "Epoch 3/20\n",
            "266/266 [==============================] - 0s 2ms/step - loss: 0.5498 - accuracy: 0.6367 - val_loss: 0.5448 - val_accuracy: 0.6607\n",
            "Epoch 4/20\n",
            "266/266 [==============================] - 0s 1ms/step - loss: 0.5479 - accuracy: 0.6379 - val_loss: 0.5398 - val_accuracy: 0.6532\n",
            "Epoch 5/20\n",
            "266/266 [==============================] - 0s 1ms/step - loss: 0.5463 - accuracy: 0.6411 - val_loss: 0.5403 - val_accuracy: 0.6466\n",
            "Epoch 6/20\n",
            "266/266 [==============================] - 0s 2ms/step - loss: 0.5425 - accuracy: 0.6445 - val_loss: 0.5409 - val_accuracy: 0.6259\n",
            "Epoch 7/20\n",
            "266/266 [==============================] - 0s 1ms/step - loss: 0.5419 - accuracy: 0.6390 - val_loss: 0.5448 - val_accuracy: 0.6250\n",
            "Epoch 8/20\n",
            "266/266 [==============================] - 0s 2ms/step - loss: 0.5415 - accuracy: 0.6490 - val_loss: 0.5370 - val_accuracy: 0.6588\n",
            "Epoch 9/20\n",
            "266/266 [==============================] - 0s 2ms/step - loss: 0.5405 - accuracy: 0.6490 - val_loss: 0.5345 - val_accuracy: 0.6635\n",
            "Epoch 10/20\n",
            "266/266 [==============================] - 0s 1ms/step - loss: 0.5381 - accuracy: 0.6514 - val_loss: 0.5318 - val_accuracy: 0.6673\n",
            "Epoch 11/20\n",
            "266/266 [==============================] - 0s 2ms/step - loss: 0.5366 - accuracy: 0.6499 - val_loss: 0.5393 - val_accuracy: 0.6598\n",
            "Epoch 12/20\n",
            "266/266 [==============================] - 0s 1ms/step - loss: 0.5364 - accuracy: 0.6527 - val_loss: 0.5338 - val_accuracy: 0.6626\n",
            "Epoch 13/20\n",
            "266/266 [==============================] - 0s 1ms/step - loss: 0.5344 - accuracy: 0.6495 - val_loss: 0.5338 - val_accuracy: 0.6635\n",
            "Epoch 14/20\n",
            "266/266 [==============================] - 0s 1ms/step - loss: 0.5338 - accuracy: 0.6538 - val_loss: 0.5319 - val_accuracy: 0.6823\n",
            "Epoch 15/20\n",
            "266/266 [==============================] - 0s 2ms/step - loss: 0.5332 - accuracy: 0.6611 - val_loss: 0.5317 - val_accuracy: 0.6241\n",
            "Epoch 16/20\n",
            "266/266 [==============================] - 0s 2ms/step - loss: 0.5322 - accuracy: 0.6564 - val_loss: 0.5294 - val_accuracy: 0.6654\n",
            "Epoch 17/20\n",
            "266/266 [==============================] - 0s 1ms/step - loss: 0.5320 - accuracy: 0.6560 - val_loss: 0.5336 - val_accuracy: 0.6823\n",
            "Epoch 18/20\n",
            "266/266 [==============================] - 0s 1ms/step - loss: 0.5313 - accuracy: 0.6591 - val_loss: 0.5306 - val_accuracy: 0.6701\n",
            "Epoch 19/20\n",
            "266/266 [==============================] - 0s 2ms/step - loss: 0.5323 - accuracy: 0.6564 - val_loss: 0.5342 - val_accuracy: 0.6551\n",
            "Epoch 20/20\n",
            "266/266 [==============================] - 0s 1ms/step - loss: 0.5297 - accuracy: 0.6582 - val_loss: 0.5314 - val_accuracy: 0.6720\n",
            "34/34 [==============================] - 0s 1ms/step - loss: 0.5173 - accuracy: 0.6805\n",
            "Test Loss: 0.5173\n",
            "Test Accuracy: 0.6805\n",
            "34/34 [==============================] - 0s 997us/step\n"
          ]
        }
      ]
    },
    {
      "cell_type": "code",
      "source": [
        "\n",
        "plt.plot(history.history['loss'], label ='loss')\n",
        "plt.plot(history.history['val_loss'], label ='val_loss')\n",
        "plt.xlabel('Epoch')\n",
        "plt.ylabel('loss')\n",
        "plt.ylim([0.5, 1])\n",
        "plt.legend(loc='lower right')"
      ],
      "metadata": {
        "colab": {
          "base_uri": "https://localhost:8080/",
          "height": 472
        },
        "id": "UMeHw-WQj11v",
        "outputId": "a2c8a1ce-df8a-4d19-9a16-e1b3bb1f48a3"
      },
      "execution_count": 50,
      "outputs": [
        {
          "output_type": "execute_result",
          "data": {
            "text/plain": [
              "<matplotlib.legend.Legend at 0x7fac4f417940>"
            ]
          },
          "metadata": {},
          "execution_count": 50
        },
        {
          "output_type": "display_data",
          "data": {
            "text/plain": [
              "<Figure size 640x480 with 1 Axes>"
            ],
            "image/png": "[encoded data removed]"
          },
          "metadata": {}
        }
      ]
    },
    {
      "cell_type": "markdown",
      "source": [
        "### **Evaluation and Conclusion:**\n",
        " The logistic Regression gave the accuracy of about 63%. After that ANN Model for neuro Network with 3 dense layer was implemented with10 epoch. The accuracy of this model was found to be 65%.\n",
        "\n",
        "Futhermore, one more dense layer was added and the epoch is increased to 20 and the model was executed. The accuracy of the model is increased to 68%. This helps us increase the model accuracy.\n",
        "\n",
        "The difference in  Loss and Epoch graph between two different model can be seen in the graph. It is concluded that the Artificial Neural Network model  gives the best accuracy than Normal Regression model and if the   the epoch and hidden layer are increased the better accuracy is anticipated in the model."
      ],
      "metadata": {
        "id": "efD4VUpAkrio"
      }
    }
  ],
  "metadata": {
    "colab": {
      "provenance": []
    },
    "kernelspec": {
      "display_name": "Python 3 (ipykernel)",
      "language": "python",
      "name": "python3"
    },
    "language_info": {
      "codemirror_mode": {
        "name": "ipython",
        "version": 3
      },
      "file_extension": ".py",
      "mimetype": "text/x-python",
      "name": "python",
      "nbconvert_exporter": "python",
      "pygments_lexer": "ipython3",
      "version": "3.10.5"
    }
  },
  "nbformat": 4,
  "nbformat_minor": 0
}